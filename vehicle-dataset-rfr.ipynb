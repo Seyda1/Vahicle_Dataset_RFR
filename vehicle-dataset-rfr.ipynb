{
 "cells": [
  {
   "cell_type": "code",
   "execution_count": 1,
   "metadata": {
    "_cell_guid": "b1076dfc-b9ad-4769-8c92-a6c4dae69d19",
    "_uuid": "8f2839f25d086af736a60e9eeb907d3b93b6e0e5",
    "execution": {
     "iopub.execute_input": "2021-03-29T22:00:20.852088Z",
     "iopub.status.busy": "2021-03-29T22:00:20.851351Z",
     "iopub.status.idle": "2021-03-29T22:00:21.746919Z",
     "shell.execute_reply": "2021-03-29T22:00:21.746272Z"
    },
    "papermill": {
     "duration": 0.938307,
     "end_time": "2021-03-29T22:00:21.747147",
     "exception": false,
     "start_time": "2021-03-29T22:00:20.808840",
     "status": "completed"
    },
    "tags": []
   },
   "outputs": [
    {
     "name": "stdout",
     "output_type": "stream",
     "text": [
      "/kaggle/input/vehicle-dataset-from-cardekho/car data.csv\n",
      "/kaggle/input/vehicle-dataset-from-cardekho/CAR DETAILS FROM CAR DEKHO.csv\n",
      "/kaggle/input/vehicle-dataset-from-cardekho/Car details v3.csv\n"
     ]
    }
   ],
   "source": [
    "# This Python 3 environment comes with many helpful analytics libraries installed\n",
    "# It is defined by the kaggle/python Docker image: https://github.com/kaggle/docker-python\n",
    "# For example, here's several helpful packages to load\n",
    "\n",
    "import numpy as np # linear algebra\n",
    "import pandas as pd # data processing, CSV file I/O (e.g. pd.read_csv)\n",
    "\n",
    "import seaborn as sns\n",
    "import matplotlib.pyplot as plt\n",
    "# Input data files are available in the read-only \"../input/\" directory\n",
    "# For example, running this (by clicking run or pressing Shift+Enter) will list all files under the input directory\n",
    "\n",
    "import os\n",
    "for dirname, _, filenames in os.walk('/kaggle/input'):\n",
    "    for filename in filenames:\n",
    "        print(os.path.join(dirname, filename))\n",
    "\n",
    "# You can write up to 20GB to the current directory (/kaggle/working/) that gets preserved as output when you create a version using \"Save & Run All\" \n",
    "# You can also write temporary files to /kaggle/temp/, but they won't be saved outside of the current session"
   ]
  },
  {
   "cell_type": "markdown",
   "metadata": {
    "papermill": {
     "duration": 0.033996,
     "end_time": "2021-03-29T22:00:21.820051",
     "exception": false,
     "start_time": "2021-03-29T22:00:21.786055",
     "status": "completed"
    },
    "tags": []
   },
   "source": [
    "## Load and Check Data"
   ]
  },
  {
   "cell_type": "code",
   "execution_count": 2,
   "metadata": {
    "execution": {
     "iopub.execute_input": "2021-03-29T22:00:21.893950Z",
     "iopub.status.busy": "2021-03-29T22:00:21.892997Z",
     "iopub.status.idle": "2021-03-29T22:00:21.911957Z",
     "shell.execute_reply": "2021-03-29T22:00:21.912513Z"
    },
    "papermill": {
     "duration": 0.058704,
     "end_time": "2021-03-29T22:00:21.912685",
     "exception": false,
     "start_time": "2021-03-29T22:00:21.853981",
     "status": "completed"
    },
    "tags": []
   },
   "outputs": [],
   "source": [
    "df=pd.read_csv(\"/kaggle/input/vehicle-dataset-from-cardekho/car data.csv\")"
   ]
  },
  {
   "cell_type": "code",
   "execution_count": 3,
   "metadata": {
    "execution": {
     "iopub.execute_input": "2021-03-29T22:00:21.995259Z",
     "iopub.status.busy": "2021-03-29T22:00:21.994285Z",
     "iopub.status.idle": "2021-03-29T22:00:22.019776Z",
     "shell.execute_reply": "2021-03-29T22:00:22.019236Z"
    },
    "papermill": {
     "duration": 0.072906,
     "end_time": "2021-03-29T22:00:22.019944",
     "exception": false,
     "start_time": "2021-03-29T22:00:21.947038",
     "status": "completed"
    },
    "tags": []
   },
   "outputs": [
    {
     "data": {
      "text/html": [
       "<div>\n",
       "<style scoped>\n",
       "    .dataframe tbody tr th:only-of-type {\n",
       "        vertical-align: middle;\n",
       "    }\n",
       "\n",
       "    .dataframe tbody tr th {\n",
       "        vertical-align: top;\n",
       "    }\n",
       "\n",
       "    .dataframe thead th {\n",
       "        text-align: right;\n",
       "    }\n",
       "</style>\n",
       "<table border=\"1\" class=\"dataframe\">\n",
       "  <thead>\n",
       "    <tr style=\"text-align: right;\">\n",
       "      <th></th>\n",
       "      <th>Car_Name</th>\n",
       "      <th>Year</th>\n",
       "      <th>Selling_Price</th>\n",
       "      <th>Present_Price</th>\n",
       "      <th>Kms_Driven</th>\n",
       "      <th>Fuel_Type</th>\n",
       "      <th>Seller_Type</th>\n",
       "      <th>Transmission</th>\n",
       "      <th>Owner</th>\n",
       "    </tr>\n",
       "  </thead>\n",
       "  <tbody>\n",
       "    <tr>\n",
       "      <th>0</th>\n",
       "      <td>ritz</td>\n",
       "      <td>2014</td>\n",
       "      <td>3.35</td>\n",
       "      <td>5.59</td>\n",
       "      <td>27000</td>\n",
       "      <td>Petrol</td>\n",
       "      <td>Dealer</td>\n",
       "      <td>Manual</td>\n",
       "      <td>0</td>\n",
       "    </tr>\n",
       "    <tr>\n",
       "      <th>1</th>\n",
       "      <td>sx4</td>\n",
       "      <td>2013</td>\n",
       "      <td>4.75</td>\n",
       "      <td>9.54</td>\n",
       "      <td>43000</td>\n",
       "      <td>Diesel</td>\n",
       "      <td>Dealer</td>\n",
       "      <td>Manual</td>\n",
       "      <td>0</td>\n",
       "    </tr>\n",
       "    <tr>\n",
       "      <th>2</th>\n",
       "      <td>ciaz</td>\n",
       "      <td>2017</td>\n",
       "      <td>7.25</td>\n",
       "      <td>9.85</td>\n",
       "      <td>6900</td>\n",
       "      <td>Petrol</td>\n",
       "      <td>Dealer</td>\n",
       "      <td>Manual</td>\n",
       "      <td>0</td>\n",
       "    </tr>\n",
       "    <tr>\n",
       "      <th>3</th>\n",
       "      <td>wagon r</td>\n",
       "      <td>2011</td>\n",
       "      <td>2.85</td>\n",
       "      <td>4.15</td>\n",
       "      <td>5200</td>\n",
       "      <td>Petrol</td>\n",
       "      <td>Dealer</td>\n",
       "      <td>Manual</td>\n",
       "      <td>0</td>\n",
       "    </tr>\n",
       "    <tr>\n",
       "      <th>4</th>\n",
       "      <td>swift</td>\n",
       "      <td>2014</td>\n",
       "      <td>4.60</td>\n",
       "      <td>6.87</td>\n",
       "      <td>42450</td>\n",
       "      <td>Diesel</td>\n",
       "      <td>Dealer</td>\n",
       "      <td>Manual</td>\n",
       "      <td>0</td>\n",
       "    </tr>\n",
       "  </tbody>\n",
       "</table>\n",
       "</div>"
      ],
      "text/plain": [
       "  Car_Name  Year  Selling_Price  Present_Price  Kms_Driven Fuel_Type  \\\n",
       "0     ritz  2014           3.35           5.59       27000    Petrol   \n",
       "1      sx4  2013           4.75           9.54       43000    Diesel   \n",
       "2     ciaz  2017           7.25           9.85        6900    Petrol   \n",
       "3  wagon r  2011           2.85           4.15        5200    Petrol   \n",
       "4    swift  2014           4.60           6.87       42450    Diesel   \n",
       "\n",
       "  Seller_Type Transmission  Owner  \n",
       "0      Dealer       Manual      0  \n",
       "1      Dealer       Manual      0  \n",
       "2      Dealer       Manual      0  \n",
       "3      Dealer       Manual      0  \n",
       "4      Dealer       Manual      0  "
      ]
     },
     "execution_count": 3,
     "metadata": {},
     "output_type": "execute_result"
    }
   ],
   "source": [
    "df.head()"
   ]
  },
  {
   "cell_type": "code",
   "execution_count": 4,
   "metadata": {
    "execution": {
     "iopub.execute_input": "2021-03-29T22:00:22.094980Z",
     "iopub.status.busy": "2021-03-29T22:00:22.094311Z",
     "iopub.status.idle": "2021-03-29T22:00:22.098713Z",
     "shell.execute_reply": "2021-03-29T22:00:22.098197Z"
    },
    "papermill": {
     "duration": 0.043969,
     "end_time": "2021-03-29T22:00:22.098874",
     "exception": false,
     "start_time": "2021-03-29T22:00:22.054905",
     "status": "completed"
    },
    "tags": []
   },
   "outputs": [
    {
     "data": {
      "text/plain": [
       "(301, 9)"
      ]
     },
     "execution_count": 4,
     "metadata": {},
     "output_type": "execute_result"
    }
   ],
   "source": [
    "df.shape"
   ]
  },
  {
   "cell_type": "markdown",
   "metadata": {
    "papermill": {
     "duration": 0.03495,
     "end_time": "2021-03-29T22:00:22.169226",
     "exception": false,
     "start_time": "2021-03-29T22:00:22.134276",
     "status": "completed"
    },
    "tags": []
   },
   "source": [
    "* There are 301 sample and 9 features in dataset.\n"
   ]
  },
  {
   "cell_type": "code",
   "execution_count": 5,
   "metadata": {
    "execution": {
     "iopub.execute_input": "2021-03-29T22:00:22.249773Z",
     "iopub.status.busy": "2021-03-29T22:00:22.248965Z",
     "iopub.status.idle": "2021-03-29T22:00:22.253641Z",
     "shell.execute_reply": "2021-03-29T22:00:22.252704Z"
    },
    "papermill": {
     "duration": 0.049453,
     "end_time": "2021-03-29T22:00:22.253860",
     "exception": false,
     "start_time": "2021-03-29T22:00:22.204407",
     "status": "completed"
    },
    "tags": []
   },
   "outputs": [
    {
     "name": "stdout",
     "output_type": "stream",
     "text": [
      "['Dealer' 'Individual']\n",
      "['Manual' 'Automatic']\n",
      "[0 1 3]\n",
      "['Petrol' 'Diesel' 'CNG']\n"
     ]
    }
   ],
   "source": [
    "list=[\"Seller_Type\",\"Transmission\",\"Owner\",\"Fuel_Type\"]\n",
    "for i in list:\n",
    "    print(df[i].unique())"
   ]
  },
  {
   "cell_type": "markdown",
   "metadata": {
    "papermill": {
     "duration": 0.035465,
     "end_time": "2021-03-29T22:00:22.326539",
     "exception": false,
     "start_time": "2021-03-29T22:00:22.291074",
     "status": "completed"
    },
    "tags": []
   },
   "source": [
    "* As we can see above; Seller_type, Transmission, Owner, Fuel_Type are categorical variables."
   ]
  },
  {
   "cell_type": "code",
   "execution_count": 6,
   "metadata": {
    "execution": {
     "iopub.execute_input": "2021-03-29T22:00:22.406117Z",
     "iopub.status.busy": "2021-03-29T22:00:22.405267Z",
     "iopub.status.idle": "2021-03-29T22:00:22.409800Z",
     "shell.execute_reply": "2021-03-29T22:00:22.409235Z"
    },
    "papermill": {
     "duration": 0.047758,
     "end_time": "2021-03-29T22:00:22.409953",
     "exception": false,
     "start_time": "2021-03-29T22:00:22.362195",
     "status": "completed"
    },
    "tags": []
   },
   "outputs": [
    {
     "data": {
      "text/plain": [
       "Car_Name         0\n",
       "Year             0\n",
       "Selling_Price    0\n",
       "Present_Price    0\n",
       "Kms_Driven       0\n",
       "Fuel_Type        0\n",
       "Seller_Type      0\n",
       "Transmission     0\n",
       "Owner            0\n",
       "dtype: int64"
      ]
     },
     "execution_count": 6,
     "metadata": {},
     "output_type": "execute_result"
    }
   ],
   "source": [
    "#we should check missing and null values\n",
    "df.isnull().sum()"
   ]
  },
  {
   "cell_type": "markdown",
   "metadata": {
    "papermill": {
     "duration": 0.036517,
     "end_time": "2021-03-29T22:00:22.483107",
     "exception": false,
     "start_time": "2021-03-29T22:00:22.446590",
     "status": "completed"
    },
    "tags": []
   },
   "source": [
    "* There is no missing or null values in dataset"
   ]
  },
  {
   "cell_type": "code",
   "execution_count": 7,
   "metadata": {
    "execution": {
     "iopub.execute_input": "2021-03-29T22:00:22.564017Z",
     "iopub.status.busy": "2021-03-29T22:00:22.563294Z",
     "iopub.status.idle": "2021-03-29T22:00:22.585890Z",
     "shell.execute_reply": "2021-03-29T22:00:22.585346Z"
    },
    "papermill": {
     "duration": 0.066509,
     "end_time": "2021-03-29T22:00:22.586029",
     "exception": false,
     "start_time": "2021-03-29T22:00:22.519520",
     "status": "completed"
    },
    "tags": []
   },
   "outputs": [
    {
     "data": {
      "text/html": [
       "<div>\n",
       "<style scoped>\n",
       "    .dataframe tbody tr th:only-of-type {\n",
       "        vertical-align: middle;\n",
       "    }\n",
       "\n",
       "    .dataframe tbody tr th {\n",
       "        vertical-align: top;\n",
       "    }\n",
       "\n",
       "    .dataframe thead th {\n",
       "        text-align: right;\n",
       "    }\n",
       "</style>\n",
       "<table border=\"1\" class=\"dataframe\">\n",
       "  <thead>\n",
       "    <tr style=\"text-align: right;\">\n",
       "      <th></th>\n",
       "      <th>Year</th>\n",
       "      <th>Selling_Price</th>\n",
       "      <th>Present_Price</th>\n",
       "      <th>Kms_Driven</th>\n",
       "      <th>Owner</th>\n",
       "    </tr>\n",
       "  </thead>\n",
       "  <tbody>\n",
       "    <tr>\n",
       "      <th>count</th>\n",
       "      <td>301.000000</td>\n",
       "      <td>301.000000</td>\n",
       "      <td>301.000000</td>\n",
       "      <td>301.000000</td>\n",
       "      <td>301.000000</td>\n",
       "    </tr>\n",
       "    <tr>\n",
       "      <th>mean</th>\n",
       "      <td>2013.627907</td>\n",
       "      <td>4.661296</td>\n",
       "      <td>7.628472</td>\n",
       "      <td>36947.205980</td>\n",
       "      <td>0.043189</td>\n",
       "    </tr>\n",
       "    <tr>\n",
       "      <th>std</th>\n",
       "      <td>2.891554</td>\n",
       "      <td>5.082812</td>\n",
       "      <td>8.644115</td>\n",
       "      <td>38886.883882</td>\n",
       "      <td>0.247915</td>\n",
       "    </tr>\n",
       "    <tr>\n",
       "      <th>min</th>\n",
       "      <td>2003.000000</td>\n",
       "      <td>0.100000</td>\n",
       "      <td>0.320000</td>\n",
       "      <td>500.000000</td>\n",
       "      <td>0.000000</td>\n",
       "    </tr>\n",
       "    <tr>\n",
       "      <th>25%</th>\n",
       "      <td>2012.000000</td>\n",
       "      <td>0.900000</td>\n",
       "      <td>1.200000</td>\n",
       "      <td>15000.000000</td>\n",
       "      <td>0.000000</td>\n",
       "    </tr>\n",
       "    <tr>\n",
       "      <th>50%</th>\n",
       "      <td>2014.000000</td>\n",
       "      <td>3.600000</td>\n",
       "      <td>6.400000</td>\n",
       "      <td>32000.000000</td>\n",
       "      <td>0.000000</td>\n",
       "    </tr>\n",
       "    <tr>\n",
       "      <th>75%</th>\n",
       "      <td>2016.000000</td>\n",
       "      <td>6.000000</td>\n",
       "      <td>9.900000</td>\n",
       "      <td>48767.000000</td>\n",
       "      <td>0.000000</td>\n",
       "    </tr>\n",
       "    <tr>\n",
       "      <th>max</th>\n",
       "      <td>2018.000000</td>\n",
       "      <td>35.000000</td>\n",
       "      <td>92.600000</td>\n",
       "      <td>500000.000000</td>\n",
       "      <td>3.000000</td>\n",
       "    </tr>\n",
       "  </tbody>\n",
       "</table>\n",
       "</div>"
      ],
      "text/plain": [
       "              Year  Selling_Price  Present_Price     Kms_Driven       Owner\n",
       "count   301.000000     301.000000     301.000000     301.000000  301.000000\n",
       "mean   2013.627907       4.661296       7.628472   36947.205980    0.043189\n",
       "std       2.891554       5.082812       8.644115   38886.883882    0.247915\n",
       "min    2003.000000       0.100000       0.320000     500.000000    0.000000\n",
       "25%    2012.000000       0.900000       1.200000   15000.000000    0.000000\n",
       "50%    2014.000000       3.600000       6.400000   32000.000000    0.000000\n",
       "75%    2016.000000       6.000000       9.900000   48767.000000    0.000000\n",
       "max    2018.000000      35.000000      92.600000  500000.000000    3.000000"
      ]
     },
     "execution_count": 7,
     "metadata": {},
     "output_type": "execute_result"
    }
   ],
   "source": [
    "df.describe()"
   ]
  },
  {
   "cell_type": "code",
   "execution_count": 8,
   "metadata": {
    "execution": {
     "iopub.execute_input": "2021-03-29T22:00:22.665305Z",
     "iopub.status.busy": "2021-03-29T22:00:22.664613Z",
     "iopub.status.idle": "2021-03-29T22:00:22.669247Z",
     "shell.execute_reply": "2021-03-29T22:00:22.668581Z"
    },
    "papermill": {
     "duration": 0.046058,
     "end_time": "2021-03-29T22:00:22.669394",
     "exception": false,
     "start_time": "2021-03-29T22:00:22.623336",
     "status": "completed"
    },
    "tags": []
   },
   "outputs": [
    {
     "data": {
      "text/plain": [
       "Index(['Car_Name', 'Year', 'Selling_Price', 'Present_Price', 'Kms_Driven',\n",
       "       'Fuel_Type', 'Seller_Type', 'Transmission', 'Owner'],\n",
       "      dtype='object')"
      ]
     },
     "execution_count": 8,
     "metadata": {},
     "output_type": "execute_result"
    }
   ],
   "source": [
    "df.columns"
   ]
  },
  {
   "cell_type": "markdown",
   "metadata": {
    "papermill": {
     "duration": 0.037223,
     "end_time": "2021-03-29T22:00:22.744234",
     "exception": false,
     "start_time": "2021-03-29T22:00:22.707011",
     "status": "completed"
    },
    "tags": []
   },
   "source": [
    "## Exploratory Data Analysis (EDA)"
   ]
  },
  {
   "cell_type": "code",
   "execution_count": 9,
   "metadata": {
    "execution": {
     "iopub.execute_input": "2021-03-29T22:00:22.826862Z",
     "iopub.status.busy": "2021-03-29T22:00:22.825850Z",
     "iopub.status.idle": "2021-03-29T22:00:22.829310Z",
     "shell.execute_reply": "2021-03-29T22:00:22.828658Z"
    },
    "papermill": {
     "duration": 0.047588,
     "end_time": "2021-03-29T22:00:22.829452",
     "exception": false,
     "start_time": "2021-03-29T22:00:22.781864",
     "status": "completed"
    },
    "tags": []
   },
   "outputs": [],
   "source": [
    "final_dataset=df[['Year', 'Selling_Price', 'Present_Price', 'Kms_Driven','Fuel_Type', 'Seller_Type', 'Transmission', 'Owner']]\n",
    "#With this i drop Car_Name feature\n",
    "#You can use drop function. This is a just another way to drop features."
   ]
  },
  {
   "cell_type": "code",
   "execution_count": 10,
   "metadata": {
    "execution": {
     "iopub.execute_input": "2021-03-29T22:00:22.921685Z",
     "iopub.status.busy": "2021-03-29T22:00:22.920652Z",
     "iopub.status.idle": "2021-03-29T22:00:22.923987Z",
     "shell.execute_reply": "2021-03-29T22:00:22.924520Z"
    },
    "papermill": {
     "duration": 0.057581,
     "end_time": "2021-03-29T22:00:22.924693",
     "exception": false,
     "start_time": "2021-03-29T22:00:22.867112",
     "status": "completed"
    },
    "tags": []
   },
   "outputs": [
    {
     "data": {
      "text/html": [
       "<div>\n",
       "<style scoped>\n",
       "    .dataframe tbody tr th:only-of-type {\n",
       "        vertical-align: middle;\n",
       "    }\n",
       "\n",
       "    .dataframe tbody tr th {\n",
       "        vertical-align: top;\n",
       "    }\n",
       "\n",
       "    .dataframe thead th {\n",
       "        text-align: right;\n",
       "    }\n",
       "</style>\n",
       "<table border=\"1\" class=\"dataframe\">\n",
       "  <thead>\n",
       "    <tr style=\"text-align: right;\">\n",
       "      <th></th>\n",
       "      <th>Year</th>\n",
       "      <th>Selling_Price</th>\n",
       "      <th>Present_Price</th>\n",
       "      <th>Kms_Driven</th>\n",
       "      <th>Fuel_Type</th>\n",
       "      <th>Seller_Type</th>\n",
       "      <th>Transmission</th>\n",
       "      <th>Owner</th>\n",
       "    </tr>\n",
       "  </thead>\n",
       "  <tbody>\n",
       "    <tr>\n",
       "      <th>0</th>\n",
       "      <td>2014</td>\n",
       "      <td>3.35</td>\n",
       "      <td>5.59</td>\n",
       "      <td>27000</td>\n",
       "      <td>Petrol</td>\n",
       "      <td>Dealer</td>\n",
       "      <td>Manual</td>\n",
       "      <td>0</td>\n",
       "    </tr>\n",
       "    <tr>\n",
       "      <th>1</th>\n",
       "      <td>2013</td>\n",
       "      <td>4.75</td>\n",
       "      <td>9.54</td>\n",
       "      <td>43000</td>\n",
       "      <td>Diesel</td>\n",
       "      <td>Dealer</td>\n",
       "      <td>Manual</td>\n",
       "      <td>0</td>\n",
       "    </tr>\n",
       "    <tr>\n",
       "      <th>2</th>\n",
       "      <td>2017</td>\n",
       "      <td>7.25</td>\n",
       "      <td>9.85</td>\n",
       "      <td>6900</td>\n",
       "      <td>Petrol</td>\n",
       "      <td>Dealer</td>\n",
       "      <td>Manual</td>\n",
       "      <td>0</td>\n",
       "    </tr>\n",
       "    <tr>\n",
       "      <th>3</th>\n",
       "      <td>2011</td>\n",
       "      <td>2.85</td>\n",
       "      <td>4.15</td>\n",
       "      <td>5200</td>\n",
       "      <td>Petrol</td>\n",
       "      <td>Dealer</td>\n",
       "      <td>Manual</td>\n",
       "      <td>0</td>\n",
       "    </tr>\n",
       "    <tr>\n",
       "      <th>4</th>\n",
       "      <td>2014</td>\n",
       "      <td>4.60</td>\n",
       "      <td>6.87</td>\n",
       "      <td>42450</td>\n",
       "      <td>Diesel</td>\n",
       "      <td>Dealer</td>\n",
       "      <td>Manual</td>\n",
       "      <td>0</td>\n",
       "    </tr>\n",
       "  </tbody>\n",
       "</table>\n",
       "</div>"
      ],
      "text/plain": [
       "   Year  Selling_Price  Present_Price  Kms_Driven Fuel_Type Seller_Type  \\\n",
       "0  2014           3.35           5.59       27000    Petrol      Dealer   \n",
       "1  2013           4.75           9.54       43000    Diesel      Dealer   \n",
       "2  2017           7.25           9.85        6900    Petrol      Dealer   \n",
       "3  2011           2.85           4.15        5200    Petrol      Dealer   \n",
       "4  2014           4.60           6.87       42450    Diesel      Dealer   \n",
       "\n",
       "  Transmission  Owner  \n",
       "0       Manual      0  \n",
       "1       Manual      0  \n",
       "2       Manual      0  \n",
       "3       Manual      0  \n",
       "4       Manual      0  "
      ]
     },
     "execution_count": 10,
     "metadata": {},
     "output_type": "execute_result"
    }
   ],
   "source": [
    "final_dataset.head()"
   ]
  },
  {
   "cell_type": "code",
   "execution_count": 11,
   "metadata": {
    "execution": {
     "iopub.execute_input": "2021-03-29T22:00:23.016453Z",
     "iopub.status.busy": "2021-03-29T22:00:23.011326Z",
     "iopub.status.idle": "2021-03-29T22:00:23.020443Z",
     "shell.execute_reply": "2021-03-29T22:00:23.019839Z"
    },
    "papermill": {
     "duration": 0.056937,
     "end_time": "2021-03-29T22:00:23.020584",
     "exception": false,
     "start_time": "2021-03-29T22:00:22.963647",
     "status": "completed"
    },
    "tags": []
   },
   "outputs": [
    {
     "data": {
      "text/html": [
       "<div>\n",
       "<style scoped>\n",
       "    .dataframe tbody tr th:only-of-type {\n",
       "        vertical-align: middle;\n",
       "    }\n",
       "\n",
       "    .dataframe tbody tr th {\n",
       "        vertical-align: top;\n",
       "    }\n",
       "\n",
       "    .dataframe thead th {\n",
       "        text-align: right;\n",
       "    }\n",
       "</style>\n",
       "<table border=\"1\" class=\"dataframe\">\n",
       "  <thead>\n",
       "    <tr style=\"text-align: right;\">\n",
       "      <th></th>\n",
       "      <th>Year</th>\n",
       "      <th>Selling_Price</th>\n",
       "      <th>Present_Price</th>\n",
       "      <th>Kms_Driven</th>\n",
       "      <th>Fuel_Type</th>\n",
       "      <th>Seller_Type</th>\n",
       "      <th>Transmission</th>\n",
       "      <th>Owner</th>\n",
       "      <th>Current_Year</th>\n",
       "    </tr>\n",
       "  </thead>\n",
       "  <tbody>\n",
       "    <tr>\n",
       "      <th>0</th>\n",
       "      <td>2014</td>\n",
       "      <td>3.35</td>\n",
       "      <td>5.59</td>\n",
       "      <td>27000</td>\n",
       "      <td>Petrol</td>\n",
       "      <td>Dealer</td>\n",
       "      <td>Manual</td>\n",
       "      <td>0</td>\n",
       "      <td>2021</td>\n",
       "    </tr>\n",
       "    <tr>\n",
       "      <th>1</th>\n",
       "      <td>2013</td>\n",
       "      <td>4.75</td>\n",
       "      <td>9.54</td>\n",
       "      <td>43000</td>\n",
       "      <td>Diesel</td>\n",
       "      <td>Dealer</td>\n",
       "      <td>Manual</td>\n",
       "      <td>0</td>\n",
       "      <td>2021</td>\n",
       "    </tr>\n",
       "    <tr>\n",
       "      <th>2</th>\n",
       "      <td>2017</td>\n",
       "      <td>7.25</td>\n",
       "      <td>9.85</td>\n",
       "      <td>6900</td>\n",
       "      <td>Petrol</td>\n",
       "      <td>Dealer</td>\n",
       "      <td>Manual</td>\n",
       "      <td>0</td>\n",
       "      <td>2021</td>\n",
       "    </tr>\n",
       "    <tr>\n",
       "      <th>3</th>\n",
       "      <td>2011</td>\n",
       "      <td>2.85</td>\n",
       "      <td>4.15</td>\n",
       "      <td>5200</td>\n",
       "      <td>Petrol</td>\n",
       "      <td>Dealer</td>\n",
       "      <td>Manual</td>\n",
       "      <td>0</td>\n",
       "      <td>2021</td>\n",
       "    </tr>\n",
       "    <tr>\n",
       "      <th>4</th>\n",
       "      <td>2014</td>\n",
       "      <td>4.60</td>\n",
       "      <td>6.87</td>\n",
       "      <td>42450</td>\n",
       "      <td>Diesel</td>\n",
       "      <td>Dealer</td>\n",
       "      <td>Manual</td>\n",
       "      <td>0</td>\n",
       "      <td>2021</td>\n",
       "    </tr>\n",
       "  </tbody>\n",
       "</table>\n",
       "</div>"
      ],
      "text/plain": [
       "   Year  Selling_Price  Present_Price  Kms_Driven Fuel_Type Seller_Type  \\\n",
       "0  2014           3.35           5.59       27000    Petrol      Dealer   \n",
       "1  2013           4.75           9.54       43000    Diesel      Dealer   \n",
       "2  2017           7.25           9.85        6900    Petrol      Dealer   \n",
       "3  2011           2.85           4.15        5200    Petrol      Dealer   \n",
       "4  2014           4.60           6.87       42450    Diesel      Dealer   \n",
       "\n",
       "  Transmission  Owner  Current_Year  \n",
       "0       Manual      0          2021  \n",
       "1       Manual      0          2021  \n",
       "2       Manual      0          2021  \n",
       "3       Manual      0          2021  \n",
       "4       Manual      0          2021  "
      ]
     },
     "execution_count": 11,
     "metadata": {},
     "output_type": "execute_result"
    }
   ],
   "source": [
    "final_dataset[\"Current_Year\"]=2021\n",
    "final_dataset.head()\n"
   ]
  },
  {
   "cell_type": "markdown",
   "metadata": {
    "papermill": {
     "duration": 0.038786,
     "end_time": "2021-03-29T22:00:23.098075",
     "exception": false,
     "start_time": "2021-03-29T22:00:23.059289",
     "status": "completed"
    },
    "tags": []
   },
   "source": [
    "* The year feature shows us what year the cars were built. We will subtract 2021 from the years when cars were built to reach the age of cars. We will change the year feature with new feature which we will calculate"
   ]
  },
  {
   "cell_type": "code",
   "execution_count": 12,
   "metadata": {
    "execution": {
     "iopub.execute_input": "2021-03-29T22:00:23.181932Z",
     "iopub.status.busy": "2021-03-29T22:00:23.181255Z",
     "iopub.status.idle": "2021-03-29T22:00:23.202274Z",
     "shell.execute_reply": "2021-03-29T22:00:23.201649Z"
    },
    "papermill": {
     "duration": 0.064946,
     "end_time": "2021-03-29T22:00:23.202423",
     "exception": false,
     "start_time": "2021-03-29T22:00:23.137477",
     "status": "completed"
    },
    "tags": []
   },
   "outputs": [],
   "source": [
    "final_dataset[\"AgeCar\"]=final_dataset[\"Current_Year\"] - final_dataset[\"Year\"]"
   ]
  },
  {
   "cell_type": "code",
   "execution_count": 13,
   "metadata": {
    "execution": {
     "iopub.execute_input": "2021-03-29T22:00:23.284940Z",
     "iopub.status.busy": "2021-03-29T22:00:23.283966Z",
     "iopub.status.idle": "2021-03-29T22:00:23.300205Z",
     "shell.execute_reply": "2021-03-29T22:00:23.299473Z"
    },
    "papermill": {
     "duration": 0.05846,
     "end_time": "2021-03-29T22:00:23.300357",
     "exception": false,
     "start_time": "2021-03-29T22:00:23.241897",
     "status": "completed"
    },
    "tags": []
   },
   "outputs": [
    {
     "data": {
      "text/html": [
       "<div>\n",
       "<style scoped>\n",
       "    .dataframe tbody tr th:only-of-type {\n",
       "        vertical-align: middle;\n",
       "    }\n",
       "\n",
       "    .dataframe tbody tr th {\n",
       "        vertical-align: top;\n",
       "    }\n",
       "\n",
       "    .dataframe thead th {\n",
       "        text-align: right;\n",
       "    }\n",
       "</style>\n",
       "<table border=\"1\" class=\"dataframe\">\n",
       "  <thead>\n",
       "    <tr style=\"text-align: right;\">\n",
       "      <th></th>\n",
       "      <th>Year</th>\n",
       "      <th>Selling_Price</th>\n",
       "      <th>Present_Price</th>\n",
       "      <th>Kms_Driven</th>\n",
       "      <th>Fuel_Type</th>\n",
       "      <th>Seller_Type</th>\n",
       "      <th>Transmission</th>\n",
       "      <th>Owner</th>\n",
       "      <th>Current_Year</th>\n",
       "      <th>AgeCar</th>\n",
       "    </tr>\n",
       "  </thead>\n",
       "  <tbody>\n",
       "    <tr>\n",
       "      <th>0</th>\n",
       "      <td>2014</td>\n",
       "      <td>3.35</td>\n",
       "      <td>5.59</td>\n",
       "      <td>27000</td>\n",
       "      <td>Petrol</td>\n",
       "      <td>Dealer</td>\n",
       "      <td>Manual</td>\n",
       "      <td>0</td>\n",
       "      <td>2021</td>\n",
       "      <td>7</td>\n",
       "    </tr>\n",
       "    <tr>\n",
       "      <th>1</th>\n",
       "      <td>2013</td>\n",
       "      <td>4.75</td>\n",
       "      <td>9.54</td>\n",
       "      <td>43000</td>\n",
       "      <td>Diesel</td>\n",
       "      <td>Dealer</td>\n",
       "      <td>Manual</td>\n",
       "      <td>0</td>\n",
       "      <td>2021</td>\n",
       "      <td>8</td>\n",
       "    </tr>\n",
       "    <tr>\n",
       "      <th>2</th>\n",
       "      <td>2017</td>\n",
       "      <td>7.25</td>\n",
       "      <td>9.85</td>\n",
       "      <td>6900</td>\n",
       "      <td>Petrol</td>\n",
       "      <td>Dealer</td>\n",
       "      <td>Manual</td>\n",
       "      <td>0</td>\n",
       "      <td>2021</td>\n",
       "      <td>4</td>\n",
       "    </tr>\n",
       "    <tr>\n",
       "      <th>3</th>\n",
       "      <td>2011</td>\n",
       "      <td>2.85</td>\n",
       "      <td>4.15</td>\n",
       "      <td>5200</td>\n",
       "      <td>Petrol</td>\n",
       "      <td>Dealer</td>\n",
       "      <td>Manual</td>\n",
       "      <td>0</td>\n",
       "      <td>2021</td>\n",
       "      <td>10</td>\n",
       "    </tr>\n",
       "    <tr>\n",
       "      <th>4</th>\n",
       "      <td>2014</td>\n",
       "      <td>4.60</td>\n",
       "      <td>6.87</td>\n",
       "      <td>42450</td>\n",
       "      <td>Diesel</td>\n",
       "      <td>Dealer</td>\n",
       "      <td>Manual</td>\n",
       "      <td>0</td>\n",
       "      <td>2021</td>\n",
       "      <td>7</td>\n",
       "    </tr>\n",
       "  </tbody>\n",
       "</table>\n",
       "</div>"
      ],
      "text/plain": [
       "   Year  Selling_Price  Present_Price  Kms_Driven Fuel_Type Seller_Type  \\\n",
       "0  2014           3.35           5.59       27000    Petrol      Dealer   \n",
       "1  2013           4.75           9.54       43000    Diesel      Dealer   \n",
       "2  2017           7.25           9.85        6900    Petrol      Dealer   \n",
       "3  2011           2.85           4.15        5200    Petrol      Dealer   \n",
       "4  2014           4.60           6.87       42450    Diesel      Dealer   \n",
       "\n",
       "  Transmission  Owner  Current_Year  AgeCar  \n",
       "0       Manual      0          2021       7  \n",
       "1       Manual      0          2021       8  \n",
       "2       Manual      0          2021       4  \n",
       "3       Manual      0          2021      10  \n",
       "4       Manual      0          2021       7  "
      ]
     },
     "execution_count": 13,
     "metadata": {},
     "output_type": "execute_result"
    }
   ],
   "source": [
    "final_dataset.head()"
   ]
  },
  {
   "cell_type": "code",
   "execution_count": 14,
   "metadata": {
    "execution": {
     "iopub.execute_input": "2021-03-29T22:00:23.385877Z",
     "iopub.status.busy": "2021-03-29T22:00:23.384934Z",
     "iopub.status.idle": "2021-03-29T22:00:23.389864Z",
     "shell.execute_reply": "2021-03-29T22:00:23.389297Z"
    },
    "papermill": {
     "duration": 0.050135,
     "end_time": "2021-03-29T22:00:23.390006",
     "exception": false,
     "start_time": "2021-03-29T22:00:23.339871",
     "status": "completed"
    },
    "tags": []
   },
   "outputs": [],
   "source": [
    "final_dataset.drop([\"Year\"],inplace=True,axis=1)\n"
   ]
  },
  {
   "cell_type": "code",
   "execution_count": 15,
   "metadata": {
    "execution": {
     "iopub.execute_input": "2021-03-29T22:00:23.483529Z",
     "iopub.status.busy": "2021-03-29T22:00:23.482890Z",
     "iopub.status.idle": "2021-03-29T22:00:23.486757Z",
     "shell.execute_reply": "2021-03-29T22:00:23.487318Z"
    },
    "papermill": {
     "duration": 0.057956,
     "end_time": "2021-03-29T22:00:23.487485",
     "exception": false,
     "start_time": "2021-03-29T22:00:23.429529",
     "status": "completed"
    },
    "tags": []
   },
   "outputs": [
    {
     "data": {
      "text/html": [
       "<div>\n",
       "<style scoped>\n",
       "    .dataframe tbody tr th:only-of-type {\n",
       "        vertical-align: middle;\n",
       "    }\n",
       "\n",
       "    .dataframe tbody tr th {\n",
       "        vertical-align: top;\n",
       "    }\n",
       "\n",
       "    .dataframe thead th {\n",
       "        text-align: right;\n",
       "    }\n",
       "</style>\n",
       "<table border=\"1\" class=\"dataframe\">\n",
       "  <thead>\n",
       "    <tr style=\"text-align: right;\">\n",
       "      <th></th>\n",
       "      <th>Selling_Price</th>\n",
       "      <th>Present_Price</th>\n",
       "      <th>Kms_Driven</th>\n",
       "      <th>Fuel_Type</th>\n",
       "      <th>Seller_Type</th>\n",
       "      <th>Transmission</th>\n",
       "      <th>Owner</th>\n",
       "      <th>Current_Year</th>\n",
       "      <th>AgeCar</th>\n",
       "    </tr>\n",
       "  </thead>\n",
       "  <tbody>\n",
       "    <tr>\n",
       "      <th>0</th>\n",
       "      <td>3.35</td>\n",
       "      <td>5.59</td>\n",
       "      <td>27000</td>\n",
       "      <td>Petrol</td>\n",
       "      <td>Dealer</td>\n",
       "      <td>Manual</td>\n",
       "      <td>0</td>\n",
       "      <td>2021</td>\n",
       "      <td>7</td>\n",
       "    </tr>\n",
       "    <tr>\n",
       "      <th>1</th>\n",
       "      <td>4.75</td>\n",
       "      <td>9.54</td>\n",
       "      <td>43000</td>\n",
       "      <td>Diesel</td>\n",
       "      <td>Dealer</td>\n",
       "      <td>Manual</td>\n",
       "      <td>0</td>\n",
       "      <td>2021</td>\n",
       "      <td>8</td>\n",
       "    </tr>\n",
       "    <tr>\n",
       "      <th>2</th>\n",
       "      <td>7.25</td>\n",
       "      <td>9.85</td>\n",
       "      <td>6900</td>\n",
       "      <td>Petrol</td>\n",
       "      <td>Dealer</td>\n",
       "      <td>Manual</td>\n",
       "      <td>0</td>\n",
       "      <td>2021</td>\n",
       "      <td>4</td>\n",
       "    </tr>\n",
       "    <tr>\n",
       "      <th>3</th>\n",
       "      <td>2.85</td>\n",
       "      <td>4.15</td>\n",
       "      <td>5200</td>\n",
       "      <td>Petrol</td>\n",
       "      <td>Dealer</td>\n",
       "      <td>Manual</td>\n",
       "      <td>0</td>\n",
       "      <td>2021</td>\n",
       "      <td>10</td>\n",
       "    </tr>\n",
       "    <tr>\n",
       "      <th>4</th>\n",
       "      <td>4.60</td>\n",
       "      <td>6.87</td>\n",
       "      <td>42450</td>\n",
       "      <td>Diesel</td>\n",
       "      <td>Dealer</td>\n",
       "      <td>Manual</td>\n",
       "      <td>0</td>\n",
       "      <td>2021</td>\n",
       "      <td>7</td>\n",
       "    </tr>\n",
       "  </tbody>\n",
       "</table>\n",
       "</div>"
      ],
      "text/plain": [
       "   Selling_Price  Present_Price  Kms_Driven Fuel_Type Seller_Type  \\\n",
       "0           3.35           5.59       27000    Petrol      Dealer   \n",
       "1           4.75           9.54       43000    Diesel      Dealer   \n",
       "2           7.25           9.85        6900    Petrol      Dealer   \n",
       "3           2.85           4.15        5200    Petrol      Dealer   \n",
       "4           4.60           6.87       42450    Diesel      Dealer   \n",
       "\n",
       "  Transmission  Owner  Current_Year  AgeCar  \n",
       "0       Manual      0          2021       7  \n",
       "1       Manual      0          2021       8  \n",
       "2       Manual      0          2021       4  \n",
       "3       Manual      0          2021      10  \n",
       "4       Manual      0          2021       7  "
      ]
     },
     "execution_count": 15,
     "metadata": {},
     "output_type": "execute_result"
    }
   ],
   "source": [
    "final_dataset.head()"
   ]
  },
  {
   "cell_type": "code",
   "execution_count": 16,
   "metadata": {
    "execution": {
     "iopub.execute_input": "2021-03-29T22:00:23.571371Z",
     "iopub.status.busy": "2021-03-29T22:00:23.570721Z",
     "iopub.status.idle": "2021-03-29T22:00:23.576030Z",
     "shell.execute_reply": "2021-03-29T22:00:23.576537Z"
    },
    "papermill": {
     "duration": 0.049002,
     "end_time": "2021-03-29T22:00:23.576711",
     "exception": false,
     "start_time": "2021-03-29T22:00:23.527709",
     "status": "completed"
    },
    "tags": []
   },
   "outputs": [],
   "source": [
    "#I used current year feature, and now i will get rid of it.\n",
    "final_dataset.drop([\"Current_Year\"],inplace=True,axis=1)"
   ]
  },
  {
   "cell_type": "code",
   "execution_count": 17,
   "metadata": {
    "execution": {
     "iopub.execute_input": "2021-03-29T22:00:23.660348Z",
     "iopub.status.busy": "2021-03-29T22:00:23.659698Z",
     "iopub.status.idle": "2021-03-29T22:00:23.675252Z",
     "shell.execute_reply": "2021-03-29T22:00:23.674595Z"
    },
    "papermill": {
     "duration": 0.058397,
     "end_time": "2021-03-29T22:00:23.675392",
     "exception": false,
     "start_time": "2021-03-29T22:00:23.616995",
     "status": "completed"
    },
    "tags": []
   },
   "outputs": [
    {
     "data": {
      "text/html": [
       "<div>\n",
       "<style scoped>\n",
       "    .dataframe tbody tr th:only-of-type {\n",
       "        vertical-align: middle;\n",
       "    }\n",
       "\n",
       "    .dataframe tbody tr th {\n",
       "        vertical-align: top;\n",
       "    }\n",
       "\n",
       "    .dataframe thead th {\n",
       "        text-align: right;\n",
       "    }\n",
       "</style>\n",
       "<table border=\"1\" class=\"dataframe\">\n",
       "  <thead>\n",
       "    <tr style=\"text-align: right;\">\n",
       "      <th></th>\n",
       "      <th>Selling_Price</th>\n",
       "      <th>Present_Price</th>\n",
       "      <th>Kms_Driven</th>\n",
       "      <th>Fuel_Type</th>\n",
       "      <th>Seller_Type</th>\n",
       "      <th>Transmission</th>\n",
       "      <th>Owner</th>\n",
       "      <th>AgeCar</th>\n",
       "    </tr>\n",
       "  </thead>\n",
       "  <tbody>\n",
       "    <tr>\n",
       "      <th>0</th>\n",
       "      <td>3.35</td>\n",
       "      <td>5.59</td>\n",
       "      <td>27000</td>\n",
       "      <td>Petrol</td>\n",
       "      <td>Dealer</td>\n",
       "      <td>Manual</td>\n",
       "      <td>0</td>\n",
       "      <td>7</td>\n",
       "    </tr>\n",
       "    <tr>\n",
       "      <th>1</th>\n",
       "      <td>4.75</td>\n",
       "      <td>9.54</td>\n",
       "      <td>43000</td>\n",
       "      <td>Diesel</td>\n",
       "      <td>Dealer</td>\n",
       "      <td>Manual</td>\n",
       "      <td>0</td>\n",
       "      <td>8</td>\n",
       "    </tr>\n",
       "    <tr>\n",
       "      <th>2</th>\n",
       "      <td>7.25</td>\n",
       "      <td>9.85</td>\n",
       "      <td>6900</td>\n",
       "      <td>Petrol</td>\n",
       "      <td>Dealer</td>\n",
       "      <td>Manual</td>\n",
       "      <td>0</td>\n",
       "      <td>4</td>\n",
       "    </tr>\n",
       "    <tr>\n",
       "      <th>3</th>\n",
       "      <td>2.85</td>\n",
       "      <td>4.15</td>\n",
       "      <td>5200</td>\n",
       "      <td>Petrol</td>\n",
       "      <td>Dealer</td>\n",
       "      <td>Manual</td>\n",
       "      <td>0</td>\n",
       "      <td>10</td>\n",
       "    </tr>\n",
       "    <tr>\n",
       "      <th>4</th>\n",
       "      <td>4.60</td>\n",
       "      <td>6.87</td>\n",
       "      <td>42450</td>\n",
       "      <td>Diesel</td>\n",
       "      <td>Dealer</td>\n",
       "      <td>Manual</td>\n",
       "      <td>0</td>\n",
       "      <td>7</td>\n",
       "    </tr>\n",
       "  </tbody>\n",
       "</table>\n",
       "</div>"
      ],
      "text/plain": [
       "   Selling_Price  Present_Price  Kms_Driven Fuel_Type Seller_Type  \\\n",
       "0           3.35           5.59       27000    Petrol      Dealer   \n",
       "1           4.75           9.54       43000    Diesel      Dealer   \n",
       "2           7.25           9.85        6900    Petrol      Dealer   \n",
       "3           2.85           4.15        5200    Petrol      Dealer   \n",
       "4           4.60           6.87       42450    Diesel      Dealer   \n",
       "\n",
       "  Transmission  Owner  AgeCar  \n",
       "0       Manual      0       7  \n",
       "1       Manual      0       8  \n",
       "2       Manual      0       4  \n",
       "3       Manual      0      10  \n",
       "4       Manual      0       7  "
      ]
     },
     "execution_count": 17,
     "metadata": {},
     "output_type": "execute_result"
    }
   ],
   "source": [
    "final_dataset.head()"
   ]
  },
  {
   "cell_type": "markdown",
   "metadata": {
    "papermill": {
     "duration": 0.040767,
     "end_time": "2021-03-29T22:00:23.757245",
     "exception": false,
     "start_time": "2021-03-29T22:00:23.716478",
     "status": "completed"
    },
    "tags": []
   },
   "source": [
    "* we will drop one of category of fuel_type to get_dummies function.\n",
    "* So, we will have two category, when both of them are zero, it represent the third category.\n",
    "* This method just an advice."
   ]
  },
  {
   "cell_type": "code",
   "execution_count": 18,
   "metadata": {
    "execution": {
     "iopub.execute_input": "2021-03-29T22:00:23.850876Z",
     "iopub.status.busy": "2021-03-29T22:00:23.849784Z",
     "iopub.status.idle": "2021-03-29T22:00:23.857102Z",
     "shell.execute_reply": "2021-03-29T22:00:23.856425Z"
    },
    "papermill": {
     "duration": 0.05874,
     "end_time": "2021-03-29T22:00:23.857257",
     "exception": false,
     "start_time": "2021-03-29T22:00:23.798517",
     "status": "completed"
    },
    "tags": []
   },
   "outputs": [],
   "source": [
    "final_dataset=pd.get_dummies(final_dataset,drop_first=True)\n",
    "#The get_dummies() function is used to convert categorical variable into dummy/indicator variables."
   ]
  },
  {
   "cell_type": "code",
   "execution_count": 19,
   "metadata": {
    "execution": {
     "iopub.execute_input": "2021-03-29T22:00:23.966754Z",
     "iopub.status.busy": "2021-03-29T22:00:23.965767Z",
     "iopub.status.idle": "2021-03-29T22:00:23.971920Z",
     "shell.execute_reply": "2021-03-29T22:00:23.972658Z"
    },
    "papermill": {
     "duration": 0.073206,
     "end_time": "2021-03-29T22:00:23.972936",
     "exception": false,
     "start_time": "2021-03-29T22:00:23.899730",
     "status": "completed"
    },
    "tags": []
   },
   "outputs": [
    {
     "data": {
      "text/html": [
       "<div>\n",
       "<style scoped>\n",
       "    .dataframe tbody tr th:only-of-type {\n",
       "        vertical-align: middle;\n",
       "    }\n",
       "\n",
       "    .dataframe tbody tr th {\n",
       "        vertical-align: top;\n",
       "    }\n",
       "\n",
       "    .dataframe thead th {\n",
       "        text-align: right;\n",
       "    }\n",
       "</style>\n",
       "<table border=\"1\" class=\"dataframe\">\n",
       "  <thead>\n",
       "    <tr style=\"text-align: right;\">\n",
       "      <th></th>\n",
       "      <th>Selling_Price</th>\n",
       "      <th>Present_Price</th>\n",
       "      <th>Kms_Driven</th>\n",
       "      <th>Owner</th>\n",
       "      <th>AgeCar</th>\n",
       "      <th>Fuel_Type_Diesel</th>\n",
       "      <th>Fuel_Type_Petrol</th>\n",
       "      <th>Seller_Type_Individual</th>\n",
       "      <th>Transmission_Manual</th>\n",
       "    </tr>\n",
       "  </thead>\n",
       "  <tbody>\n",
       "    <tr>\n",
       "      <th>0</th>\n",
       "      <td>3.35</td>\n",
       "      <td>5.59</td>\n",
       "      <td>27000</td>\n",
       "      <td>0</td>\n",
       "      <td>7</td>\n",
       "      <td>0</td>\n",
       "      <td>1</td>\n",
       "      <td>0</td>\n",
       "      <td>1</td>\n",
       "    </tr>\n",
       "    <tr>\n",
       "      <th>1</th>\n",
       "      <td>4.75</td>\n",
       "      <td>9.54</td>\n",
       "      <td>43000</td>\n",
       "      <td>0</td>\n",
       "      <td>8</td>\n",
       "      <td>1</td>\n",
       "      <td>0</td>\n",
       "      <td>0</td>\n",
       "      <td>1</td>\n",
       "    </tr>\n",
       "    <tr>\n",
       "      <th>2</th>\n",
       "      <td>7.25</td>\n",
       "      <td>9.85</td>\n",
       "      <td>6900</td>\n",
       "      <td>0</td>\n",
       "      <td>4</td>\n",
       "      <td>0</td>\n",
       "      <td>1</td>\n",
       "      <td>0</td>\n",
       "      <td>1</td>\n",
       "    </tr>\n",
       "    <tr>\n",
       "      <th>3</th>\n",
       "      <td>2.85</td>\n",
       "      <td>4.15</td>\n",
       "      <td>5200</td>\n",
       "      <td>0</td>\n",
       "      <td>10</td>\n",
       "      <td>0</td>\n",
       "      <td>1</td>\n",
       "      <td>0</td>\n",
       "      <td>1</td>\n",
       "    </tr>\n",
       "    <tr>\n",
       "      <th>4</th>\n",
       "      <td>4.60</td>\n",
       "      <td>6.87</td>\n",
       "      <td>42450</td>\n",
       "      <td>0</td>\n",
       "      <td>7</td>\n",
       "      <td>1</td>\n",
       "      <td>0</td>\n",
       "      <td>0</td>\n",
       "      <td>1</td>\n",
       "    </tr>\n",
       "  </tbody>\n",
       "</table>\n",
       "</div>"
      ],
      "text/plain": [
       "   Selling_Price  Present_Price  Kms_Driven  Owner  AgeCar  Fuel_Type_Diesel  \\\n",
       "0           3.35           5.59       27000      0       7                 0   \n",
       "1           4.75           9.54       43000      0       8                 1   \n",
       "2           7.25           9.85        6900      0       4                 0   \n",
       "3           2.85           4.15        5200      0      10                 0   \n",
       "4           4.60           6.87       42450      0       7                 1   \n",
       "\n",
       "   Fuel_Type_Petrol  Seller_Type_Individual  Transmission_Manual  \n",
       "0                 1                       0                    1  \n",
       "1                 0                       0                    1  \n",
       "2                 1                       0                    1  \n",
       "3                 1                       0                    1  \n",
       "4                 0                       0                    1  "
      ]
     },
     "execution_count": 19,
     "metadata": {},
     "output_type": "execute_result"
    }
   ],
   "source": [
    "final_dataset.head()"
   ]
  },
  {
   "cell_type": "code",
   "execution_count": 20,
   "metadata": {
    "execution": {
     "iopub.execute_input": "2021-03-29T22:00:24.080878Z",
     "iopub.status.busy": "2021-03-29T22:00:24.079899Z",
     "iopub.status.idle": "2021-03-29T22:00:38.498661Z",
     "shell.execute_reply": "2021-03-29T22:00:38.498000Z"
    },
    "papermill": {
     "duration": 14.470133,
     "end_time": "2021-03-29T22:00:38.498827",
     "exception": false,
     "start_time": "2021-03-29T22:00:24.028694",
     "status": "completed"
    },
    "tags": []
   },
   "outputs": [
    {
     "data": {
      "text/plain": [
       "<seaborn.axisgrid.PairGrid at 0x7f0f59d343d0>"
      ]
     },
     "execution_count": 20,
     "metadata": {},
     "output_type": "execute_result"
    },
    {
     "data": {
      "image/png": "[encoded data removed]",
      "text/plain": [
       "<Figure size 1620x1620 with 90 Axes>"
      ]
     },
     "metadata": {
      "needs_background": "light"
     },
     "output_type": "display_data"
    }
   ],
   "source": [
    "sns.pairplot(final_dataset)"
   ]
  },
  {
   "cell_type": "markdown",
   "metadata": {
    "papermill": {
     "duration": 0.047446,
     "end_time": "2021-03-29T22:00:38.594515",
     "exception": false,
     "start_time": "2021-03-29T22:00:38.547069",
     "status": "completed"
    },
    "tags": []
   },
   "source": [
    "## Visualization"
   ]
  },
  {
   "cell_type": "code",
   "execution_count": 21,
   "metadata": {
    "execution": {
     "iopub.execute_input": "2021-03-29T22:00:38.743707Z",
     "iopub.status.busy": "2021-03-29T22:00:38.740143Z",
     "iopub.status.idle": "2021-03-29T22:00:39.516944Z",
     "shell.execute_reply": "2021-03-29T22:00:39.516384Z"
    },
    "papermill": {
     "duration": 0.874681,
     "end_time": "2021-03-29T22:00:39.517089",
     "exception": false,
     "start_time": "2021-03-29T22:00:38.642408",
     "status": "completed"
    },
    "tags": []
   },
   "outputs": [
    {
     "data": {
      "image/png": "[encoded data removed]",
      "text/plain": [
       "<Figure size 720x720 with 2 Axes>"
      ]
     },
     "metadata": {
      "needs_background": "light"
     },
     "output_type": "display_data"
    }
   ],
   "source": [
    "corr=final_dataset.corr()\n",
    "top_corr_features=corr.index\n",
    "plt.figure(figsize=(10,10))\n",
    "\n",
    "g=sns.heatmap(final_dataset[top_corr_features].corr(),annot=True,cmap=\"RdYlGn\")\n",
    "#corr uses pearson correlation"
   ]
  },
  {
   "cell_type": "markdown",
   "metadata": {
    "papermill": {
     "duration": 0.050382,
     "end_time": "2021-03-29T22:00:39.618102",
     "exception": false,
     "start_time": "2021-03-29T22:00:39.567720",
     "status": "completed"
    },
    "tags": []
   },
   "source": [
    "* if two features high correlated we shoul drop one of them because they do same work."
   ]
  },
  {
   "cell_type": "markdown",
   "metadata": {
    "papermill": {
     "duration": 0.050431,
     "end_time": "2021-03-29T22:00:39.719376",
     "exception": false,
     "start_time": "2021-03-29T22:00:39.668945",
     "status": "completed"
    },
    "tags": []
   },
   "source": [
    "### selling price - present price"
   ]
  },
  {
   "cell_type": "code",
   "execution_count": 22,
   "metadata": {
    "execution": {
     "iopub.execute_input": "2021-03-29T22:00:39.852424Z",
     "iopub.status.busy": "2021-03-29T22:00:39.851435Z",
     "iopub.status.idle": "2021-03-29T22:00:40.104977Z",
     "shell.execute_reply": "2021-03-29T22:00:40.104310Z"
    },
    "papermill": {
     "duration": 0.334966,
     "end_time": "2021-03-29T22:00:40.105118",
     "exception": false,
     "start_time": "2021-03-29T22:00:39.770152",
     "status": "completed"
    },
    "tags": []
   },
   "outputs": [
    {
     "data": {
      "text/plain": [
       "<AxesSubplot:xlabel='Selling_Price', ylabel='Present_Price'>"
      ]
     },
     "execution_count": 22,
     "metadata": {},
     "output_type": "execute_result"
    },
    {
     "data": {
      "image/png": "[encoded data removed]",
      "text/plain": [
       "<Figure size 432x288 with 1 Axes>"
      ]
     },
     "metadata": {
      "needs_background": "light"
     },
     "output_type": "display_data"
    }
   ],
   "source": [
    "#Plot the relationship between two variables in a DataFrame with regplot\n",
    "sns.regplot(x=\"Selling_Price\",y=\"Present_Price\",data=final_dataset)"
   ]
  },
  {
   "cell_type": "markdown",
   "metadata": {
    "papermill": {
     "duration": 0.051454,
     "end_time": "2021-03-29T22:00:40.208579",
     "exception": false,
     "start_time": "2021-03-29T22:00:40.157125",
     "status": "completed"
    },
    "tags": []
   },
   "source": [
    "### selling price - fuel type"
   ]
  },
  {
   "cell_type": "code",
   "execution_count": 23,
   "metadata": {
    "execution": {
     "iopub.execute_input": "2021-03-29T22:00:40.316753Z",
     "iopub.status.busy": "2021-03-29T22:00:40.315856Z",
     "iopub.status.idle": "2021-03-29T22:00:40.545751Z",
     "shell.execute_reply": "2021-03-29T22:00:40.545244Z"
    },
    "papermill": {
     "duration": 0.285589,
     "end_time": "2021-03-29T22:00:40.545917",
     "exception": false,
     "start_time": "2021-03-29T22:00:40.260328",
     "status": "completed"
    },
    "tags": []
   },
   "outputs": [
    {
     "name": "stderr",
     "output_type": "stream",
     "text": [
      "/opt/conda/lib/python3.7/site-packages/seaborn/_decorators.py:43: FutureWarning: Pass the following variables as keyword args: x, y. From version 0.12, the only valid positional argument will be `data`, and passing other arguments without an explicit keyword will result in an error or misinterpretation.\n",
      "  FutureWarning\n"
     ]
    },
    {
     "data": {
      "text/plain": [
       "<AxesSubplot:xlabel='Fuel_Type', ylabel='Selling_Price'>"
      ]
     },
     "execution_count": 23,
     "metadata": {},
     "output_type": "execute_result"
    },
    {
     "data": {
      "image/png": "[encoded data removed]",
      "text/plain": [
       "<Figure size 432x288 with 1 Axes>"
      ]
     },
     "metadata": {
      "needs_background": "light"
     },
     "output_type": "display_data"
    }
   ],
   "source": [
    "sns.barplot(\"Fuel_Type\",\"Selling_Price\",data=df,palette=\"flare\")\n",
    "# i used df instead of final_dataset in order to can use Fuel_type feature"
   ]
  },
  {
   "cell_type": "markdown",
   "metadata": {
    "papermill": {
     "duration": 0.053721,
     "end_time": "2021-03-29T22:00:40.654265",
     "exception": false,
     "start_time": "2021-03-29T22:00:40.600544",
     "status": "completed"
    },
    "tags": []
   },
   "source": [
    "* Cars have highest price which have diesel as fuel type. The rates of price of Petrol and Cng almost equal. "
   ]
  },
  {
   "cell_type": "markdown",
   "metadata": {
    "papermill": {
     "duration": 0.053112,
     "end_time": "2021-03-29T22:00:40.761458",
     "exception": false,
     "start_time": "2021-03-29T22:00:40.708346",
     "status": "completed"
    },
    "tags": []
   },
   "source": [
    "### selling price - transmission"
   ]
  },
  {
   "cell_type": "code",
   "execution_count": 24,
   "metadata": {
    "execution": {
     "iopub.execute_input": "2021-03-29T22:00:41.055492Z",
     "iopub.status.busy": "2021-03-29T22:00:40.875732Z",
     "iopub.status.idle": "2021-03-29T22:00:41.189695Z",
     "shell.execute_reply": "2021-03-29T22:00:41.189153Z"
    },
    "papermill": {
     "duration": 0.374551,
     "end_time": "2021-03-29T22:00:41.189851",
     "exception": false,
     "start_time": "2021-03-29T22:00:40.815300",
     "status": "completed"
    },
    "tags": []
   },
   "outputs": [
    {
     "data": {
      "text/plain": [
       "<AxesSubplot:xlabel='Transmission', ylabel='Selling_Price'>"
      ]
     },
     "execution_count": 24,
     "metadata": {},
     "output_type": "execute_result"
    },
    {
     "data": {
      "image/png": "[encoded data removed]",
      "text/plain": [
       "<Figure size 432x288 with 1 Axes>"
      ]
     },
     "metadata": {
      "needs_background": "light"
     },
     "output_type": "display_data"
    }
   ],
   "source": [
    "sns.boxplot(x=\"Transmission\",y=\"Selling_Price\",data=df)"
   ]
  },
  {
   "cell_type": "markdown",
   "metadata": {
    "papermill": {
     "duration": 0.05392,
     "end_time": "2021-03-29T22:00:41.297832",
     "exception": false,
     "start_time": "2021-03-29T22:00:41.243912",
     "status": "completed"
    },
    "tags": []
   },
   "source": [
    "### selling price-Seller type"
   ]
  },
  {
   "cell_type": "code",
   "execution_count": 25,
   "metadata": {
    "execution": {
     "iopub.execute_input": "2021-03-29T22:00:41.457498Z",
     "iopub.status.busy": "2021-03-29T22:00:41.450915Z",
     "iopub.status.idle": "2021-03-29T22:00:41.580245Z",
     "shell.execute_reply": "2021-03-29T22:00:41.579622Z"
    },
    "papermill": {
     "duration": 0.228394,
     "end_time": "2021-03-29T22:00:41.580391",
     "exception": false,
     "start_time": "2021-03-29T22:00:41.351997",
     "status": "completed"
    },
    "tags": []
   },
   "outputs": [
    {
     "data": {
      "text/plain": [
       "<AxesSubplot:xlabel='Seller_Type', ylabel='Selling_Price'>"
      ]
     },
     "execution_count": 25,
     "metadata": {},
     "output_type": "execute_result"
    },
    {
     "data": {
      "image/png": "[encoded data removed]",
      "text/plain": [
       "<Figure size 432x288 with 1 Axes>"
      ]
     },
     "metadata": {
      "needs_background": "light"
     },
     "output_type": "display_data"
    }
   ],
   "source": [
    "sns.violinplot(x=\"Seller_Type\",y=\"Selling_Price\",data=df)"
   ]
  },
  {
   "cell_type": "markdown",
   "metadata": {
    "papermill": {
     "duration": 0.055026,
     "end_time": "2021-03-29T22:00:41.691207",
     "exception": false,
     "start_time": "2021-03-29T22:00:41.636181",
     "status": "completed"
    },
    "tags": []
   },
   "source": [
    "### selling price - age"
   ]
  },
  {
   "cell_type": "code",
   "execution_count": 26,
   "metadata": {
    "execution": {
     "iopub.execute_input": "2021-03-29T22:00:41.815991Z",
     "iopub.status.busy": "2021-03-29T22:00:41.814009Z",
     "iopub.status.idle": "2021-03-29T22:00:42.469404Z",
     "shell.execute_reply": "2021-03-29T22:00:42.468841Z"
    },
    "papermill": {
     "duration": 0.723043,
     "end_time": "2021-03-29T22:00:42.469547",
     "exception": false,
     "start_time": "2021-03-29T22:00:41.746504",
     "status": "completed"
    },
    "tags": []
   },
   "outputs": [
    {
     "name": "stderr",
     "output_type": "stream",
     "text": [
      "/opt/conda/lib/python3.7/site-packages/seaborn/_decorators.py:43: FutureWarning: Pass the following variables as keyword args: x, y. From version 0.12, the only valid positional argument will be `data`, and passing other arguments without an explicit keyword will result in an error or misinterpretation.\n",
      "  FutureWarning\n"
     ]
    },
    {
     "data": {
      "text/plain": [
       "<AxesSubplot:xlabel='AgeCar', ylabel='Selling_Price'>"
      ]
     },
     "execution_count": 26,
     "metadata": {},
     "output_type": "execute_result"
    },
    {
     "data": {
      "image/png": "[encoded data removed]",
      "text/plain": [
       "<Figure size 432x288 with 1 Axes>"
      ]
     },
     "metadata": {
      "needs_background": "light"
     },
     "output_type": "display_data"
    }
   ],
   "source": [
    "sns.barplot(\"AgeCar\",\"Selling_Price\",data=final_dataset,palette=\"summer\")"
   ]
  },
  {
   "cell_type": "code",
   "execution_count": 27,
   "metadata": {
    "execution": {
     "iopub.execute_input": "2021-03-29T22:00:42.589349Z",
     "iopub.status.busy": "2021-03-29T22:00:42.588388Z",
     "iopub.status.idle": "2021-03-29T22:00:42.591659Z",
     "shell.execute_reply": "2021-03-29T22:00:42.591059Z"
    },
    "papermill": {
     "duration": 0.065306,
     "end_time": "2021-03-29T22:00:42.591839",
     "exception": false,
     "start_time": "2021-03-29T22:00:42.526533",
     "status": "completed"
    },
    "tags": []
   },
   "outputs": [],
   "source": [
    "x=final_dataset.iloc[:,1:]\n",
    "y=final_dataset.iloc[:,0]\n"
   ]
  },
  {
   "cell_type": "code",
   "execution_count": 28,
   "metadata": {
    "execution": {
     "iopub.execute_input": "2021-03-29T22:00:42.719526Z",
     "iopub.status.busy": "2021-03-29T22:00:42.718485Z",
     "iopub.status.idle": "2021-03-29T22:00:42.723306Z",
     "shell.execute_reply": "2021-03-29T22:00:42.722600Z"
    },
    "papermill": {
     "duration": 0.074417,
     "end_time": "2021-03-29T22:00:42.723450",
     "exception": false,
     "start_time": "2021-03-29T22:00:42.649033",
     "status": "completed"
    },
    "tags": []
   },
   "outputs": [
    {
     "data": {
      "text/html": [
       "<div>\n",
       "<style scoped>\n",
       "    .dataframe tbody tr th:only-of-type {\n",
       "        vertical-align: middle;\n",
       "    }\n",
       "\n",
       "    .dataframe tbody tr th {\n",
       "        vertical-align: top;\n",
       "    }\n",
       "\n",
       "    .dataframe thead th {\n",
       "        text-align: right;\n",
       "    }\n",
       "</style>\n",
       "<table border=\"1\" class=\"dataframe\">\n",
       "  <thead>\n",
       "    <tr style=\"text-align: right;\">\n",
       "      <th></th>\n",
       "      <th>Present_Price</th>\n",
       "      <th>Kms_Driven</th>\n",
       "      <th>Owner</th>\n",
       "      <th>AgeCar</th>\n",
       "      <th>Fuel_Type_Diesel</th>\n",
       "      <th>Fuel_Type_Petrol</th>\n",
       "      <th>Seller_Type_Individual</th>\n",
       "      <th>Transmission_Manual</th>\n",
       "    </tr>\n",
       "  </thead>\n",
       "  <tbody>\n",
       "    <tr>\n",
       "      <th>0</th>\n",
       "      <td>5.59</td>\n",
       "      <td>27000</td>\n",
       "      <td>0</td>\n",
       "      <td>7</td>\n",
       "      <td>0</td>\n",
       "      <td>1</td>\n",
       "      <td>0</td>\n",
       "      <td>1</td>\n",
       "    </tr>\n",
       "    <tr>\n",
       "      <th>1</th>\n",
       "      <td>9.54</td>\n",
       "      <td>43000</td>\n",
       "      <td>0</td>\n",
       "      <td>8</td>\n",
       "      <td>1</td>\n",
       "      <td>0</td>\n",
       "      <td>0</td>\n",
       "      <td>1</td>\n",
       "    </tr>\n",
       "    <tr>\n",
       "      <th>2</th>\n",
       "      <td>9.85</td>\n",
       "      <td>6900</td>\n",
       "      <td>0</td>\n",
       "      <td>4</td>\n",
       "      <td>0</td>\n",
       "      <td>1</td>\n",
       "      <td>0</td>\n",
       "      <td>1</td>\n",
       "    </tr>\n",
       "    <tr>\n",
       "      <th>3</th>\n",
       "      <td>4.15</td>\n",
       "      <td>5200</td>\n",
       "      <td>0</td>\n",
       "      <td>10</td>\n",
       "      <td>0</td>\n",
       "      <td>1</td>\n",
       "      <td>0</td>\n",
       "      <td>1</td>\n",
       "    </tr>\n",
       "    <tr>\n",
       "      <th>4</th>\n",
       "      <td>6.87</td>\n",
       "      <td>42450</td>\n",
       "      <td>0</td>\n",
       "      <td>7</td>\n",
       "      <td>1</td>\n",
       "      <td>0</td>\n",
       "      <td>0</td>\n",
       "      <td>1</td>\n",
       "    </tr>\n",
       "  </tbody>\n",
       "</table>\n",
       "</div>"
      ],
      "text/plain": [
       "   Present_Price  Kms_Driven  Owner  AgeCar  Fuel_Type_Diesel  \\\n",
       "0           5.59       27000      0       7                 0   \n",
       "1           9.54       43000      0       8                 1   \n",
       "2           9.85        6900      0       4                 0   \n",
       "3           4.15        5200      0      10                 0   \n",
       "4           6.87       42450      0       7                 1   \n",
       "\n",
       "   Fuel_Type_Petrol  Seller_Type_Individual  Transmission_Manual  \n",
       "0                 1                       0                    1  \n",
       "1                 0                       0                    1  \n",
       "2                 1                       0                    1  \n",
       "3                 1                       0                    1  \n",
       "4                 0                       0                    1  "
      ]
     },
     "execution_count": 28,
     "metadata": {},
     "output_type": "execute_result"
    }
   ],
   "source": [
    "x.head()"
   ]
  },
  {
   "cell_type": "code",
   "execution_count": 29,
   "metadata": {
    "execution": {
     "iopub.execute_input": "2021-03-29T22:00:42.848026Z",
     "iopub.status.busy": "2021-03-29T22:00:42.847268Z",
     "iopub.status.idle": "2021-03-29T22:00:42.851490Z",
     "shell.execute_reply": "2021-03-29T22:00:42.850954Z"
    },
    "papermill": {
     "duration": 0.069754,
     "end_time": "2021-03-29T22:00:42.851646",
     "exception": false,
     "start_time": "2021-03-29T22:00:42.781892",
     "status": "completed"
    },
    "tags": []
   },
   "outputs": [
    {
     "data": {
      "text/plain": [
       "0    3.35\n",
       "1    4.75\n",
       "2    7.25\n",
       "3    2.85\n",
       "4    4.60\n",
       "Name: Selling_Price, dtype: float64"
      ]
     },
     "execution_count": 29,
     "metadata": {},
     "output_type": "execute_result"
    }
   ],
   "source": [
    "y.head()"
   ]
  },
  {
   "cell_type": "markdown",
   "metadata": {
    "papermill": {
     "duration": 0.058614,
     "end_time": "2021-03-29T22:00:42.969144",
     "exception": false,
     "start_time": "2021-03-29T22:00:42.910530",
     "status": "completed"
    },
    "tags": []
   },
   "source": [
    "## Feature Importance"
   ]
  },
  {
   "cell_type": "code",
   "execution_count": 30,
   "metadata": {
    "execution": {
     "iopub.execute_input": "2021-03-29T22:00:43.093061Z",
     "iopub.status.busy": "2021-03-29T22:00:43.092362Z",
     "iopub.status.idle": "2021-03-29T22:00:43.736761Z",
     "shell.execute_reply": "2021-03-29T22:00:43.736180Z"
    },
    "papermill": {
     "duration": 0.708687,
     "end_time": "2021-03-29T22:00:43.736937",
     "exception": false,
     "start_time": "2021-03-29T22:00:43.028250",
     "status": "completed"
    },
    "tags": []
   },
   "outputs": [
    {
     "data": {
      "text/plain": [
       "ExtraTreesRegressor()"
      ]
     },
     "execution_count": 30,
     "metadata": {},
     "output_type": "execute_result"
    }
   ],
   "source": [
    "# Feature Importance\n",
    "from sklearn.ensemble import ExtraTreesRegressor\n",
    "model=ExtraTreesRegressor()\n",
    "model.fit(x,y)"
   ]
  },
  {
   "cell_type": "code",
   "execution_count": 31,
   "metadata": {
    "execution": {
     "iopub.execute_input": "2021-03-29T22:00:43.866720Z",
     "iopub.status.busy": "2021-03-29T22:00:43.865667Z",
     "iopub.status.idle": "2021-03-29T22:00:43.880571Z",
     "shell.execute_reply": "2021-03-29T22:00:43.881523Z"
    },
    "papermill": {
     "duration": 0.085771,
     "end_time": "2021-03-29T22:00:43.881850",
     "exception": false,
     "start_time": "2021-03-29T22:00:43.796079",
     "status": "completed"
    },
    "tags": []
   },
   "outputs": [
    {
     "name": "stdout",
     "output_type": "stream",
     "text": [
      "[0.39841993 0.03742844 0.00179519 0.07895948 0.22602759 0.0108977\n",
      " 0.116578   0.12989368]\n"
     ]
    }
   ],
   "source": [
    "print(model.feature_importances_)#For Random Forest Regression"
   ]
  },
  {
   "cell_type": "markdown",
   "metadata": {
    "papermill": {
     "duration": 0.058946,
     "end_time": "2021-03-29T22:00:44.000401",
     "exception": false,
     "start_time": "2021-03-29T22:00:43.941455",
     "status": "completed"
    },
    "tags": []
   },
   "source": [
    "* The first value belong to Present_price and so on\n",
    "* The most important feature is Present_price"
   ]
  },
  {
   "cell_type": "code",
   "execution_count": 32,
   "metadata": {
    "execution": {
     "iopub.execute_input": "2021-03-29T22:00:44.134747Z",
     "iopub.status.busy": "2021-03-29T22:00:44.133667Z",
     "iopub.status.idle": "2021-03-29T22:00:44.309932Z",
     "shell.execute_reply": "2021-03-29T22:00:44.309269Z"
    },
    "papermill": {
     "duration": 0.250714,
     "end_time": "2021-03-29T22:00:44.310071",
     "exception": false,
     "start_time": "2021-03-29T22:00:44.059357",
     "status": "completed"
    },
    "tags": []
   },
   "outputs": [
    {
     "data": {
      "image/png": "[encoded data removed]",
      "text/plain": [
       "<Figure size 432x288 with 1 Axes>"
      ]
     },
     "metadata": {
      "needs_background": "light"
     },
     "output_type": "display_data"
    }
   ],
   "source": [
    "#visualizaiton for feature importance\n",
    "f_importances=pd.Series(model.feature_importances_,index=x.columns)#pd.series x kolonlarını veri ile eşleştiriyor.\n",
    "f_importances.nlargest(5).plot(kind='barh')\n",
    "plt.show()"
   ]
  },
  {
   "cell_type": "markdown",
   "metadata": {
    "papermill": {
     "duration": 0.060113,
     "end_time": "2021-03-29T22:00:44.430492",
     "exception": false,
     "start_time": "2021-03-29T22:00:44.370379",
     "status": "completed"
    },
    "tags": []
   },
   "source": [
    "* This methods are good option if we have a lot of feataures."
   ]
  },
  {
   "cell_type": "markdown",
   "metadata": {
    "papermill": {
     "duration": 0.060031,
     "end_time": "2021-03-29T22:00:44.550842",
     "exception": false,
     "start_time": "2021-03-29T22:00:44.490811",
     "status": "completed"
    },
    "tags": []
   },
   "source": [
    "## Modelling"
   ]
  },
  {
   "cell_type": "code",
   "execution_count": 33,
   "metadata": {
    "execution": {
     "iopub.execute_input": "2021-03-29T22:00:44.674822Z",
     "iopub.status.busy": "2021-03-29T22:00:44.674194Z",
     "iopub.status.idle": "2021-03-29T22:00:44.681434Z",
     "shell.execute_reply": "2021-03-29T22:00:44.680906Z"
    },
    "papermill": {
     "duration": 0.070328,
     "end_time": "2021-03-29T22:00:44.681567",
     "exception": false,
     "start_time": "2021-03-29T22:00:44.611239",
     "status": "completed"
    },
    "tags": []
   },
   "outputs": [],
   "source": [
    "from sklearn.model_selection import train_test_split\n",
    "X_train,x_test,y_train,y_test=train_test_split(x,y,test_size=0.2,random_state=42)"
   ]
  },
  {
   "cell_type": "code",
   "execution_count": 34,
   "metadata": {
    "execution": {
     "iopub.execute_input": "2021-03-29T22:00:44.807343Z",
     "iopub.status.busy": "2021-03-29T22:00:44.806642Z",
     "iopub.status.idle": "2021-03-29T22:00:44.809617Z",
     "shell.execute_reply": "2021-03-29T22:00:44.810122Z"
    },
    "papermill": {
     "duration": 0.068175,
     "end_time": "2021-03-29T22:00:44.810298",
     "exception": false,
     "start_time": "2021-03-29T22:00:44.742123",
     "status": "completed"
    },
    "tags": []
   },
   "outputs": [
    {
     "data": {
      "text/plain": [
       "(240, 8)"
      ]
     },
     "execution_count": 34,
     "metadata": {},
     "output_type": "execute_result"
    }
   ],
   "source": [
    "X_train.shape"
   ]
  },
  {
   "cell_type": "code",
   "execution_count": 35,
   "metadata": {
    "execution": {
     "iopub.execute_input": "2021-03-29T22:00:44.939851Z",
     "iopub.status.busy": "2021-03-29T22:00:44.939170Z",
     "iopub.status.idle": "2021-03-29T22:00:44.943961Z",
     "shell.execute_reply": "2021-03-29T22:00:44.943312Z"
    },
    "papermill": {
     "duration": 0.071672,
     "end_time": "2021-03-29T22:00:44.944160",
     "exception": false,
     "start_time": "2021-03-29T22:00:44.872488",
     "status": "completed"
    },
    "tags": []
   },
   "outputs": [],
   "source": [
    "from sklearn.ensemble import RandomForestRegressor\n",
    "rf_random=RandomForestRegressor()"
   ]
  },
  {
   "cell_type": "code",
   "execution_count": 36,
   "metadata": {
    "execution": {
     "iopub.execute_input": "2021-03-29T22:00:45.070159Z",
     "iopub.status.busy": "2021-03-29T22:00:45.069490Z",
     "iopub.status.idle": "2021-03-29T22:00:45.075157Z",
     "shell.execute_reply": "2021-03-29T22:00:45.075643Z"
    },
    "papermill": {
     "duration": 0.070289,
     "end_time": "2021-03-29T22:00:45.075848",
     "exception": false,
     "start_time": "2021-03-29T22:00:45.005559",
     "status": "completed"
    },
    "tags": []
   },
   "outputs": [],
   "source": [
    "#Randomized Search\n",
    "# linspace: Return evenly spaced numbers over a specified interval.\n",
    "#The number of trees in the forest.\n",
    "n_estimators=[int(x) for x in np.linspace(start=100,stop=1200,num=12)]\n",
    "\n",
    "#The number of features to consider when looking for the best split.\n",
    "max_features=['auto','sqrt']\n",
    "\n",
    "#The maximum depth of the tree.\n",
    "max_depth=[int(x) for x in np.linspace(5,30,num=6)]\n",
    "\n",
    "#The minimum number of samples required to split an internal node.\n",
    "min_samples_split=[2,5,10,15,100]\n",
    "\n",
    "#The minimum number of samples required to be at a leaf node.\n",
    "min_samples_leaf=[1,2,5,10]\n"
   ]
  },
  {
   "cell_type": "code",
   "execution_count": 37,
   "metadata": {
    "execution": {
     "iopub.execute_input": "2021-03-29T22:00:45.201362Z",
     "iopub.status.busy": "2021-03-29T22:00:45.200702Z",
     "iopub.status.idle": "2021-03-29T22:00:45.205409Z",
     "shell.execute_reply": "2021-03-29T22:00:45.204758Z"
    },
    "papermill": {
     "duration": 0.068297,
     "end_time": "2021-03-29T22:00:45.205546",
     "exception": false,
     "start_time": "2021-03-29T22:00:45.137249",
     "status": "completed"
    },
    "tags": []
   },
   "outputs": [],
   "source": [
    "from sklearn.model_selection import RandomizedSearchCV\n"
   ]
  },
  {
   "cell_type": "code",
   "execution_count": 38,
   "metadata": {
    "execution": {
     "iopub.execute_input": "2021-03-29T22:00:45.333005Z",
     "iopub.status.busy": "2021-03-29T22:00:45.332363Z",
     "iopub.status.idle": "2021-03-29T22:00:45.335145Z",
     "shell.execute_reply": "2021-03-29T22:00:45.335670Z"
    },
    "papermill": {
     "duration": 0.069019,
     "end_time": "2021-03-29T22:00:45.335875",
     "exception": false,
     "start_time": "2021-03-29T22:00:45.266856",
     "status": "completed"
    },
    "tags": []
   },
   "outputs": [
    {
     "name": "stdout",
     "output_type": "stream",
     "text": [
      "{'n_estimators': [100, 200, 300, 400, 500, 600, 700, 800, 900, 1000, 1100, 1200], 'max_features': ['auto', 'sqrt'], 'max_depth': [5, 10, 15, 20, 25, 30], 'min_samples_split': [2, 5, 10, 15, 100], 'min_samples_leaf': [1, 2, 5, 10]}\n"
     ]
    }
   ],
   "source": [
    "random_grid={\"n_estimators\":n_estimators,\n",
    "             \"max_features\":max_features,\n",
    "             \"max_depth\":max_depth,\n",
    "             \"min_samples_split\":min_samples_split,\n",
    "             \"min_samples_leaf\":min_samples_leaf\n",
    "             }\n",
    "print(random_grid)"
   ]
  },
  {
   "cell_type": "code",
   "execution_count": 39,
   "metadata": {
    "execution": {
     "iopub.execute_input": "2021-03-29T22:00:45.461770Z",
     "iopub.status.busy": "2021-03-29T22:00:45.461193Z",
     "iopub.status.idle": "2021-03-29T22:00:45.465543Z",
     "shell.execute_reply": "2021-03-29T22:00:45.465005Z"
    },
    "papermill": {
     "duration": 0.068303,
     "end_time": "2021-03-29T22:00:45.465680",
     "exception": false,
     "start_time": "2021-03-29T22:00:45.397377",
     "status": "completed"
    },
    "tags": []
   },
   "outputs": [],
   "source": [
    "rf=RandomForestRegressor()"
   ]
  },
  {
   "cell_type": "code",
   "execution_count": 40,
   "metadata": {
    "execution": {
     "iopub.execute_input": "2021-03-29T22:00:45.594527Z",
     "iopub.status.busy": "2021-03-29T22:00:45.593893Z",
     "iopub.status.idle": "2021-03-29T22:00:45.595821Z",
     "shell.execute_reply": "2021-03-29T22:00:45.596314Z"
    },
    "papermill": {
     "duration": 0.069176,
     "end_time": "2021-03-29T22:00:45.596479",
     "exception": false,
     "start_time": "2021-03-29T22:00:45.527303",
     "status": "completed"
    },
    "tags": []
   },
   "outputs": [],
   "source": [
    "rf_random=RandomizedSearchCV(estimator=rf,param_distributions=random_grid,scoring=\"neg_mean_squared_error\",n_iter=10,cv=5,verbose=2,random_state=42,n_jobs=1)"
   ]
  },
  {
   "cell_type": "code",
   "execution_count": 41,
   "metadata": {
    "execution": {
     "iopub.execute_input": "2021-03-29T22:00:45.723367Z",
     "iopub.status.busy": "2021-03-29T22:00:45.722726Z",
     "iopub.status.idle": "2021-03-29T22:01:49.451036Z",
     "shell.execute_reply": "2021-03-29T22:01:49.451540Z"
    },
    "papermill": {
     "duration": 63.793356,
     "end_time": "2021-03-29T22:01:49.451729",
     "exception": false,
     "start_time": "2021-03-29T22:00:45.658373",
     "status": "completed"
    },
    "tags": []
   },
   "outputs": [
    {
     "name": "stdout",
     "output_type": "stream",
     "text": [
      "Fitting 5 folds for each of 10 candidates, totalling 50 fits\n",
      "[CV] END max_depth=10, max_features=sqrt, min_samples_leaf=5, min_samples_split=5, n_estimators=900; total time=   1.5s\n",
      "[CV] END max_depth=10, max_features=sqrt, min_samples_leaf=5, min_samples_split=5, n_estimators=900; total time=   1.5s\n",
      "[CV] END max_depth=10, max_features=sqrt, min_samples_leaf=5, min_samples_split=5, n_estimators=900; total time=   1.5s\n",
      "[CV] END max_depth=10, max_features=sqrt, min_samples_leaf=5, min_samples_split=5, n_estimators=900; total time=   1.5s\n",
      "[CV] END max_depth=10, max_features=sqrt, min_samples_leaf=5, min_samples_split=5, n_estimators=900; total time=   1.5s\n",
      "[CV] END max_depth=15, max_features=sqrt, min_samples_leaf=2, min_samples_split=10, n_estimators=1100; total time=   1.9s\n",
      "[CV] END max_depth=15, max_features=sqrt, min_samples_leaf=2, min_samples_split=10, n_estimators=1100; total time=   1.9s\n",
      "[CV] END max_depth=15, max_features=sqrt, min_samples_leaf=2, min_samples_split=10, n_estimators=1100; total time=   1.8s\n",
      "[CV] END max_depth=15, max_features=sqrt, min_samples_leaf=2, min_samples_split=10, n_estimators=1100; total time=   1.9s\n",
      "[CV] END max_depth=15, max_features=sqrt, min_samples_leaf=2, min_samples_split=10, n_estimators=1100; total time=   1.9s\n",
      "[CV] END max_depth=15, max_features=auto, min_samples_leaf=5, min_samples_split=100, n_estimators=300; total time=   0.5s\n",
      "[CV] END max_depth=15, max_features=auto, min_samples_leaf=5, min_samples_split=100, n_estimators=300; total time=   0.5s\n",
      "[CV] END max_depth=15, max_features=auto, min_samples_leaf=5, min_samples_split=100, n_estimators=300; total time=   0.5s\n",
      "[CV] END max_depth=15, max_features=auto, min_samples_leaf=5, min_samples_split=100, n_estimators=300; total time=   0.5s\n",
      "[CV] END max_depth=15, max_features=auto, min_samples_leaf=5, min_samples_split=100, n_estimators=300; total time=   0.5s\n",
      "[CV] END max_depth=15, max_features=auto, min_samples_leaf=5, min_samples_split=5, n_estimators=400; total time=   0.7s\n",
      "[CV] END max_depth=15, max_features=auto, min_samples_leaf=5, min_samples_split=5, n_estimators=400; total time=   0.7s\n",
      "[CV] END max_depth=15, max_features=auto, min_samples_leaf=5, min_samples_split=5, n_estimators=400; total time=   0.7s\n",
      "[CV] END max_depth=15, max_features=auto, min_samples_leaf=5, min_samples_split=5, n_estimators=400; total time=   0.8s\n",
      "[CV] END max_depth=15, max_features=auto, min_samples_leaf=5, min_samples_split=5, n_estimators=400; total time=   0.7s\n",
      "[CV] END max_depth=20, max_features=auto, min_samples_leaf=10, min_samples_split=5, n_estimators=700; total time=   1.2s\n",
      "[CV] END max_depth=20, max_features=auto, min_samples_leaf=10, min_samples_split=5, n_estimators=700; total time=   1.2s\n",
      "[CV] END max_depth=20, max_features=auto, min_samples_leaf=10, min_samples_split=5, n_estimators=700; total time=   1.2s\n",
      "[CV] END max_depth=20, max_features=auto, min_samples_leaf=10, min_samples_split=5, n_estimators=700; total time=   1.2s\n",
      "[CV] END max_depth=20, max_features=auto, min_samples_leaf=10, min_samples_split=5, n_estimators=700; total time=   1.2s\n",
      "[CV] END max_depth=25, max_features=sqrt, min_samples_leaf=1, min_samples_split=2, n_estimators=1000; total time=   1.8s\n",
      "[CV] END max_depth=25, max_features=sqrt, min_samples_leaf=1, min_samples_split=2, n_estimators=1000; total time=   1.8s\n",
      "[CV] END max_depth=25, max_features=sqrt, min_samples_leaf=1, min_samples_split=2, n_estimators=1000; total time=   1.8s\n",
      "[CV] END max_depth=25, max_features=sqrt, min_samples_leaf=1, min_samples_split=2, n_estimators=1000; total time=   1.8s\n",
      "[CV] END max_depth=25, max_features=sqrt, min_samples_leaf=1, min_samples_split=2, n_estimators=1000; total time=   1.8s\n",
      "[CV] END max_depth=5, max_features=sqrt, min_samples_leaf=10, min_samples_split=15, n_estimators=1100; total time=   1.8s\n",
      "[CV] END max_depth=5, max_features=sqrt, min_samples_leaf=10, min_samples_split=15, n_estimators=1100; total time=   1.8s\n",
      "[CV] END max_depth=5, max_features=sqrt, min_samples_leaf=10, min_samples_split=15, n_estimators=1100; total time=   1.8s\n",
      "[CV] END max_depth=5, max_features=sqrt, min_samples_leaf=10, min_samples_split=15, n_estimators=1100; total time=   1.8s\n",
      "[CV] END max_depth=5, max_features=sqrt, min_samples_leaf=10, min_samples_split=15, n_estimators=1100; total time=   1.8s\n",
      "[CV] END max_depth=15, max_features=sqrt, min_samples_leaf=1, min_samples_split=15, n_estimators=300; total time=   0.5s\n",
      "[CV] END max_depth=15, max_features=sqrt, min_samples_leaf=1, min_samples_split=15, n_estimators=300; total time=   0.5s\n",
      "[CV] END max_depth=15, max_features=sqrt, min_samples_leaf=1, min_samples_split=15, n_estimators=300; total time=   0.5s\n",
      "[CV] END max_depth=15, max_features=sqrt, min_samples_leaf=1, min_samples_split=15, n_estimators=300; total time=   0.5s\n",
      "[CV] END max_depth=15, max_features=sqrt, min_samples_leaf=1, min_samples_split=15, n_estimators=300; total time=   0.5s\n",
      "[CV] END max_depth=5, max_features=sqrt, min_samples_leaf=2, min_samples_split=10, n_estimators=700; total time=   1.2s\n",
      "[CV] END max_depth=5, max_features=sqrt, min_samples_leaf=2, min_samples_split=10, n_estimators=700; total time=   1.2s\n",
      "[CV] END max_depth=5, max_features=sqrt, min_samples_leaf=2, min_samples_split=10, n_estimators=700; total time=   1.2s\n",
      "[CV] END max_depth=5, max_features=sqrt, min_samples_leaf=2, min_samples_split=10, n_estimators=700; total time=   1.2s\n",
      "[CV] END max_depth=5, max_features=sqrt, min_samples_leaf=2, min_samples_split=10, n_estimators=700; total time=   1.2s\n",
      "[CV] END max_depth=20, max_features=auto, min_samples_leaf=1, min_samples_split=15, n_estimators=700; total time=   1.2s\n",
      "[CV] END max_depth=20, max_features=auto, min_samples_leaf=1, min_samples_split=15, n_estimators=700; total time=   1.2s\n",
      "[CV] END max_depth=20, max_features=auto, min_samples_leaf=1, min_samples_split=15, n_estimators=700; total time=   1.2s\n",
      "[CV] END max_depth=20, max_features=auto, min_samples_leaf=1, min_samples_split=15, n_estimators=700; total time=   1.2s\n",
      "[CV] END max_depth=20, max_features=auto, min_samples_leaf=1, min_samples_split=15, n_estimators=700; total time=   1.2s\n"
     ]
    },
    {
     "data": {
      "text/plain": [
       "RandomizedSearchCV(cv=5, estimator=RandomForestRegressor(), n_jobs=1,\n",
       "                   param_distributions={'max_depth': [5, 10, 15, 20, 25, 30],\n",
       "                                        'max_features': ['auto', 'sqrt'],\n",
       "                                        'min_samples_leaf': [1, 2, 5, 10],\n",
       "                                        'min_samples_split': [2, 5, 10, 15,\n",
       "                                                              100],\n",
       "                                        'n_estimators': [100, 200, 300, 400,\n",
       "                                                         500, 600, 700, 800,\n",
       "                                                         900, 1000, 1100,\n",
       "                                                         1200]},\n",
       "                   random_state=42, scoring='neg_mean_squared_error',\n",
       "                   verbose=2)"
      ]
     },
     "execution_count": 41,
     "metadata": {},
     "output_type": "execute_result"
    }
   ],
   "source": [
    "rf_random.fit(X_train,y_train)"
   ]
  },
  {
   "cell_type": "code",
   "execution_count": 42,
   "metadata": {
    "execution": {
     "iopub.execute_input": "2021-03-29T22:01:49.612124Z",
     "iopub.status.busy": "2021-03-29T22:01:49.611384Z",
     "iopub.status.idle": "2021-03-29T22:01:49.613611Z",
     "shell.execute_reply": "2021-03-29T22:01:49.614222Z"
    },
    "papermill": {
     "duration": 0.085201,
     "end_time": "2021-03-29T22:01:49.614403",
     "exception": false,
     "start_time": "2021-03-29T22:01:49.529202",
     "status": "completed"
    },
    "tags": []
   },
   "outputs": [],
   "source": [
    "#outliers dene farklı şeyler dene"
   ]
  },
  {
   "cell_type": "code",
   "execution_count": 43,
   "metadata": {
    "execution": {
     "iopub.execute_input": "2021-03-29T22:01:49.775645Z",
     "iopub.status.busy": "2021-03-29T22:01:49.774984Z",
     "iopub.status.idle": "2021-03-29T22:01:49.872354Z",
     "shell.execute_reply": "2021-03-29T22:01:49.871766Z"
    },
    "papermill": {
     "duration": 0.17899,
     "end_time": "2021-03-29T22:01:49.872495",
     "exception": false,
     "start_time": "2021-03-29T22:01:49.693505",
     "status": "completed"
    },
    "tags": []
   },
   "outputs": [
    {
     "data": {
      "text/plain": [
       "array([ 0.71368,  9.82371,  5.25008,  0.31353,  6.93668,  6.27135,\n",
       "        1.01464,  0.60252,  0.5095 ,  6.2508 , 10.88804,  0.9127 ,\n",
       "        7.5636 ,  0.61494,  5.4168 ,  2.99461,  0.99521, 10.92095,\n",
       "        0.61701,  1.46116,  0.53735,  8.75891,  5.90213,  2.75841,\n",
       "        0.55757,  3.5716 ,  5.29025,  3.08855,  1.1659 ,  1.07238,\n",
       "        0.62462,  9.80119,  0.43024,  2.61235,  8.03313,  4.12815,\n",
       "        6.10655,  4.79965,  3.13756,  5.2072 ,  3.91896,  4.04551,\n",
       "        4.89045,  0.57076,  6.90021,  0.58274,  7.13578,  6.127  ,\n",
       "        3.10375,  3.68939,  5.46134,  1.36955, 20.6895 , 20.97525,\n",
       "        6.79589,  8.64937,  5.1683 ,  9.49705,  2.58239,  7.32764,\n",
       "        0.30833])"
      ]
     },
     "execution_count": 43,
     "metadata": {},
     "output_type": "execute_result"
    }
   ],
   "source": [
    "predictions=rf_random.predict(x_test)\n",
    "predictions"
   ]
  },
  {
   "cell_type": "code",
   "execution_count": 44,
   "metadata": {
    "execution": {
     "iopub.execute_input": "2021-03-29T22:01:50.035075Z",
     "iopub.status.busy": "2021-03-29T22:01:50.034366Z",
     "iopub.status.idle": "2021-03-29T22:01:50.259782Z",
     "shell.execute_reply": "2021-03-29T22:01:50.259099Z"
    },
    "papermill": {
     "duration": 0.30887,
     "end_time": "2021-03-29T22:01:50.259945",
     "exception": false,
     "start_time": "2021-03-29T22:01:49.951075",
     "status": "completed"
    },
    "tags": []
   },
   "outputs": [
    {
     "name": "stderr",
     "output_type": "stream",
     "text": [
      "/opt/conda/lib/python3.7/site-packages/seaborn/distributions.py:2557: FutureWarning: `distplot` is a deprecated function and will be removed in a future version. Please adapt your code to use either `displot` (a figure-level function with similar flexibility) or `histplot` (an axes-level function for histograms).\n",
      "  warnings.warn(msg, FutureWarning)\n"
     ]
    },
    {
     "data": {
      "text/plain": [
       "<AxesSubplot:xlabel='Selling_Price', ylabel='Density'>"
      ]
     },
     "execution_count": 44,
     "metadata": {},
     "output_type": "execute_result"
    },
    {
     "data": {
      "image/png": "[encoded data removed]",
      "text/plain": [
       "<Figure size 432x288 with 1 Axes>"
      ]
     },
     "metadata": {
      "needs_background": "light"
     },
     "output_type": "display_data"
    }
   ],
   "source": [
    "sns.distplot(y_test-predictions)"
   ]
  },
  {
   "cell_type": "code",
   "execution_count": 45,
   "metadata": {
    "execution": {
     "iopub.execute_input": "2021-03-29T22:01:50.453425Z",
     "iopub.status.busy": "2021-03-29T22:01:50.450615Z",
     "iopub.status.idle": "2021-03-29T22:01:50.578454Z",
     "shell.execute_reply": "2021-03-29T22:01:50.577945Z"
    },
    "papermill": {
     "duration": 0.237846,
     "end_time": "2021-03-29T22:01:50.578596",
     "exception": false,
     "start_time": "2021-03-29T22:01:50.340750",
     "status": "completed"
    },
    "tags": []
   },
   "outputs": [
    {
     "data": {
      "text/plain": [
       "Text(0, 0.5, 'y_prediction')"
      ]
     },
     "execution_count": 45,
     "metadata": {},
     "output_type": "execute_result"
    },
    {
     "data": {
      "image/png": "[encoded data removed]",
      "text/plain": [
       "<Figure size 432x288 with 1 Axes>"
      ]
     },
     "metadata": {
      "needs_background": "light"
     },
     "output_type": "display_data"
    }
   ],
   "source": [
    "plt.scatter(y_test,predictions)\n",
    "            \n",
    "plt.xlabel('y_test', fontsize=18)                          \n",
    "plt.ylabel('y_prediction', fontsize=16)"
   ]
  },
  {
   "cell_type": "code",
   "execution_count": 46,
   "metadata": {
    "execution": {
     "iopub.execute_input": "2021-03-29T22:01:50.749711Z",
     "iopub.status.busy": "2021-03-29T22:01:50.748661Z",
     "iopub.status.idle": "2021-03-29T22:01:50.753910Z",
     "shell.execute_reply": "2021-03-29T22:01:50.753136Z"
    },
    "papermill": {
     "duration": 0.093814,
     "end_time": "2021-03-29T22:01:50.754085",
     "exception": false,
     "start_time": "2021-03-29T22:01:50.660271",
     "status": "completed"
    },
    "tags": []
   },
   "outputs": [
    {
     "data": {
      "text/plain": [
       "0.9450184393400674"
      ]
     },
     "execution_count": 46,
     "metadata": {},
     "output_type": "execute_result"
    }
   ],
   "source": [
    "from sklearn.metrics import r2_score\n",
    "R2 = r2_score(y_test,predictions)\n",
    "R2"
   ]
  },
  {
   "cell_type": "code",
   "execution_count": null,
   "metadata": {
    "papermill": {
     "duration": 0.083889,
     "end_time": "2021-03-29T22:01:50.921801",
     "exception": false,
     "start_time": "2021-03-29T22:01:50.837912",
     "status": "completed"
    },
    "tags": []
   },
   "outputs": [],
   "source": []
  }
 ],
 "metadata": {
  "kernelspec": {
   "display_name": "Python 3",
   "language": "python",
   "name": "python3"
  },
  "language_info": {
   "codemirror_mode": {
    "name": "ipython",
    "version": 3
   },
   "file_extension": ".py",
   "mimetype": "text/x-python",
   "name": "python",
   "nbconvert_exporter": "python",
   "pygments_lexer": "ipython3",
   "version": "3.7.9"
  },
  "papermill": {
   "default_parameters": {},
   "duration": 97.142783,
   "end_time": "2021-03-29T22:01:52.017817",
   "environment_variables": {},
   "exception": null,
   "input_path": "__notebook__.ipynb",
   "output_path": "__notebook__.ipynb",
   "parameters": {},
   "start_time": "2021-03-29T22:00:14.875034",
   "version": "2.2.2"
  }
 },
 "nbformat": 4,
 "nbformat_minor": 4
}
